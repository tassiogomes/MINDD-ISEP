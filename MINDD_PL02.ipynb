{
  "nbformat": 4,
  "nbformat_minor": 0,
  "metadata": {
    "colab": {
      "provenance": [],
      "authorship_tag": "ABX9TyM9JODuLeiLohMJHtLIzdhY",
      "include_colab_link": true
    },
    "kernelspec": {
      "name": "python3",
      "display_name": "Python 3"
    },
    "language_info": {
      "name": "python"
    }
  },
  "cells": [
    {
      "cell_type": "markdown",
      "metadata": {
        "id": "view-in-github",
        "colab_type": "text"
      },
      "source": [
        "<a href=\"https://colab.research.google.com/github/tassiogomes/MINDD-ISEP/blob/main/MINDD_PL02.ipynb\" target=\"_parent\"><img src=\"https://colab.research.google.com/assets/colab-badge.svg\" alt=\"Open In Colab\"/></a>"
      ]
    },
    {
      "cell_type": "markdown",
      "source": [
        "## 1. Start to load the dataset week_purchases18-25.txt into R session and next:"
      ],
      "metadata": {
        "id": "WB3lREJnuYK1"
      }
    },
    {
      "cell_type": "code",
      "execution_count": 1,
      "metadata": {
        "colab": {
          "base_uri": "https://localhost:8080/",
          "height": 0
        },
        "id": "vWDJ9dBtqM6L",
        "outputId": "979005a4-34a6-4e37-a42a-535ad14b5a50"
      },
      "outputs": [
        {
          "output_type": "stream",
          "name": "stdout",
          "text": [
            "Mounted at /content/drive\n"
          ]
        },
        {
          "output_type": "execute_result",
          "data": {
            "text/plain": [
              "       Username TitleCli         Name                         Address Country  \\\n",
              "0  user_1000884    MRS    DORIS126855  89594388-Boris Road-Doris Town     USA   \n",
              "1  user_1009862    MRS     DORIS42531  75844730-Boris Road-Doris Town      UK   \n",
              "2  user_1025298   MISS    DORIS136770  39704306-Boris Road-Doris Town      UK   \n",
              "3  user_1039001      MR   BORIS111529  46627181-Boris Road-Doris Town     NaN   \n",
              "4  user_1040891    MRS    DORIS142154  82645107-Boris Road-Doris Town     USA   \n",
              "\n",
              "  Gender   Age Favourites           Order_ID  Product_ID      Style  \\\n",
              "0      F  27.0  Adventure  Order_ID_25002281        1048     Comedy   \n",
              "1      F  36.0   Children  Order_ID_11048478        1060  Children    \n",
              "2      F  38.0   Children  Order_ID_62493972        1062  Children    \n",
              "3    NaN   NaN        NaN  Order_ID_40324890        1048     Comedy   \n",
              "4      F  25.0  Adventure  Order_ID_79222013        1013     Comedy   \n",
              "\n",
              "                          Film_Title  Price PurchTime   PurchDate Buy_for  \n",
              "0                 This was Tinny Sap   9.99  23:50:02  25/02/2001  Myself  \n",
              "1                        The Buppets   5.99  23:40:18  22/02/2001  Family  \n",
              "2                    Bogus the Clown   5.99  08:37:27  21/02/2001  Family  \n",
              "3                 This was Tinny Sap   9.99  20:17:16  25/02/2001     NaN  \n",
              "4  Dr OddBloke or: What bomb? Where?  15.99  21:12:49  22/02/2001  Myself  "
            ],
            "text/html": [
              "\n",
              "  <div id=\"df-263b62cf-d33a-4377-b99c-fe2a3e44a2fc\" class=\"colab-df-container\">\n",
              "    <div>\n",
              "<style scoped>\n",
              "    .dataframe tbody tr th:only-of-type {\n",
              "        vertical-align: middle;\n",
              "    }\n",
              "\n",
              "    .dataframe tbody tr th {\n",
              "        vertical-align: top;\n",
              "    }\n",
              "\n",
              "    .dataframe thead th {\n",
              "        text-align: right;\n",
              "    }\n",
              "</style>\n",
              "<table border=\"1\" class=\"dataframe\">\n",
              "  <thead>\n",
              "    <tr style=\"text-align: right;\">\n",
              "      <th></th>\n",
              "      <th>Username</th>\n",
              "      <th>TitleCli</th>\n",
              "      <th>Name</th>\n",
              "      <th>Address</th>\n",
              "      <th>Country</th>\n",
              "      <th>Gender</th>\n",
              "      <th>Age</th>\n",
              "      <th>Favourites</th>\n",
              "      <th>Order_ID</th>\n",
              "      <th>Product_ID</th>\n",
              "      <th>Style</th>\n",
              "      <th>Film_Title</th>\n",
              "      <th>Price</th>\n",
              "      <th>PurchTime</th>\n",
              "      <th>PurchDate</th>\n",
              "      <th>Buy_for</th>\n",
              "    </tr>\n",
              "  </thead>\n",
              "  <tbody>\n",
              "    <tr>\n",
              "      <th>0</th>\n",
              "      <td>user_1000884</td>\n",
              "      <td>MRS</td>\n",
              "      <td>DORIS126855</td>\n",
              "      <td>89594388-Boris Road-Doris Town</td>\n",
              "      <td>USA</td>\n",
              "      <td>F</td>\n",
              "      <td>27.0</td>\n",
              "      <td>Adventure</td>\n",
              "      <td>Order_ID_25002281</td>\n",
              "      <td>1048</td>\n",
              "      <td>Comedy</td>\n",
              "      <td>This was Tinny Sap</td>\n",
              "      <td>9.99</td>\n",
              "      <td>23:50:02</td>\n",
              "      <td>25/02/2001</td>\n",
              "      <td>Myself</td>\n",
              "    </tr>\n",
              "    <tr>\n",
              "      <th>1</th>\n",
              "      <td>user_1009862</td>\n",
              "      <td>MRS</td>\n",
              "      <td>DORIS42531</td>\n",
              "      <td>75844730-Boris Road-Doris Town</td>\n",
              "      <td>UK</td>\n",
              "      <td>F</td>\n",
              "      <td>36.0</td>\n",
              "      <td>Children</td>\n",
              "      <td>Order_ID_11048478</td>\n",
              "      <td>1060</td>\n",
              "      <td>Children</td>\n",
              "      <td>The Buppets</td>\n",
              "      <td>5.99</td>\n",
              "      <td>23:40:18</td>\n",
              "      <td>22/02/2001</td>\n",
              "      <td>Family</td>\n",
              "    </tr>\n",
              "    <tr>\n",
              "      <th>2</th>\n",
              "      <td>user_1025298</td>\n",
              "      <td>MISS</td>\n",
              "      <td>DORIS136770</td>\n",
              "      <td>39704306-Boris Road-Doris Town</td>\n",
              "      <td>UK</td>\n",
              "      <td>F</td>\n",
              "      <td>38.0</td>\n",
              "      <td>Children</td>\n",
              "      <td>Order_ID_62493972</td>\n",
              "      <td>1062</td>\n",
              "      <td>Children</td>\n",
              "      <td>Bogus the Clown</td>\n",
              "      <td>5.99</td>\n",
              "      <td>08:37:27</td>\n",
              "      <td>21/02/2001</td>\n",
              "      <td>Family</td>\n",
              "    </tr>\n",
              "    <tr>\n",
              "      <th>3</th>\n",
              "      <td>user_1039001</td>\n",
              "      <td>MR</td>\n",
              "      <td>BORIS111529</td>\n",
              "      <td>46627181-Boris Road-Doris Town</td>\n",
              "      <td>NaN</td>\n",
              "      <td>NaN</td>\n",
              "      <td>NaN</td>\n",
              "      <td>NaN</td>\n",
              "      <td>Order_ID_40324890</td>\n",
              "      <td>1048</td>\n",
              "      <td>Comedy</td>\n",
              "      <td>This was Tinny Sap</td>\n",
              "      <td>9.99</td>\n",
              "      <td>20:17:16</td>\n",
              "      <td>25/02/2001</td>\n",
              "      <td>NaN</td>\n",
              "    </tr>\n",
              "    <tr>\n",
              "      <th>4</th>\n",
              "      <td>user_1040891</td>\n",
              "      <td>MRS</td>\n",
              "      <td>DORIS142154</td>\n",
              "      <td>82645107-Boris Road-Doris Town</td>\n",
              "      <td>USA</td>\n",
              "      <td>F</td>\n",
              "      <td>25.0</td>\n",
              "      <td>Adventure</td>\n",
              "      <td>Order_ID_79222013</td>\n",
              "      <td>1013</td>\n",
              "      <td>Comedy</td>\n",
              "      <td>Dr OddBloke or: What bomb? Where?</td>\n",
              "      <td>15.99</td>\n",
              "      <td>21:12:49</td>\n",
              "      <td>22/02/2001</td>\n",
              "      <td>Myself</td>\n",
              "    </tr>\n",
              "  </tbody>\n",
              "</table>\n",
              "</div>\n",
              "    <div class=\"colab-df-buttons\">\n",
              "\n",
              "  <div class=\"colab-df-container\">\n",
              "    <button class=\"colab-df-convert\" onclick=\"convertToInteractive('df-263b62cf-d33a-4377-b99c-fe2a3e44a2fc')\"\n",
              "            title=\"Convert this dataframe to an interactive table.\"\n",
              "            style=\"display:none;\">\n",
              "\n",
              "  <svg xmlns=\"http://www.w3.org/2000/svg\" height=\"24px\" viewBox=\"0 -960 960 960\">\n",
              "    <path d=\"M120-120v-720h720v720H120Zm60-500h600v-160H180v160Zm220 220h160v-160H400v160Zm0 220h160v-160H400v160ZM180-400h160v-160H180v160Zm440 0h160v-160H620v160ZM180-180h160v-160H180v160Zm440 0h160v-160H620v160Z\"/>\n",
              "  </svg>\n",
              "    </button>\n",
              "\n",
              "  <style>\n",
              "    .colab-df-container {\n",
              "      display:flex;\n",
              "      gap: 12px;\n",
              "    }\n",
              "\n",
              "    .colab-df-convert {\n",
              "      background-color: #E8F0FE;\n",
              "      border: none;\n",
              "      border-radius: 50%;\n",
              "      cursor: pointer;\n",
              "      display: none;\n",
              "      fill: #1967D2;\n",
              "      height: 32px;\n",
              "      padding: 0 0 0 0;\n",
              "      width: 32px;\n",
              "    }\n",
              "\n",
              "    .colab-df-convert:hover {\n",
              "      background-color: #E2EBFA;\n",
              "      box-shadow: 0px 1px 2px rgba(60, 64, 67, 0.3), 0px 1px 3px 1px rgba(60, 64, 67, 0.15);\n",
              "      fill: #174EA6;\n",
              "    }\n",
              "\n",
              "    .colab-df-buttons div {\n",
              "      margin-bottom: 4px;\n",
              "    }\n",
              "\n",
              "    [theme=dark] .colab-df-convert {\n",
              "      background-color: #3B4455;\n",
              "      fill: #D2E3FC;\n",
              "    }\n",
              "\n",
              "    [theme=dark] .colab-df-convert:hover {\n",
              "      background-color: #434B5C;\n",
              "      box-shadow: 0px 1px 3px 1px rgba(0, 0, 0, 0.15);\n",
              "      filter: drop-shadow(0px 1px 2px rgba(0, 0, 0, 0.3));\n",
              "      fill: #FFFFFF;\n",
              "    }\n",
              "  </style>\n",
              "\n",
              "    <script>\n",
              "      const buttonEl =\n",
              "        document.querySelector('#df-263b62cf-d33a-4377-b99c-fe2a3e44a2fc button.colab-df-convert');\n",
              "      buttonEl.style.display =\n",
              "        google.colab.kernel.accessAllowed ? 'block' : 'none';\n",
              "\n",
              "      async function convertToInteractive(key) {\n",
              "        const element = document.querySelector('#df-263b62cf-d33a-4377-b99c-fe2a3e44a2fc');\n",
              "        const dataTable =\n",
              "          await google.colab.kernel.invokeFunction('convertToInteractive',\n",
              "                                                    [key], {});\n",
              "        if (!dataTable) return;\n",
              "\n",
              "        const docLinkHtml = 'Like what you see? Visit the ' +\n",
              "          '<a target=\"_blank\" href=https://colab.research.google.com/notebooks/data_table.ipynb>data table notebook</a>'\n",
              "          + ' to learn more about interactive tables.';\n",
              "        element.innerHTML = '';\n",
              "        dataTable['output_type'] = 'display_data';\n",
              "        await google.colab.output.renderOutput(dataTable, element);\n",
              "        const docLink = document.createElement('div');\n",
              "        docLink.innerHTML = docLinkHtml;\n",
              "        element.appendChild(docLink);\n",
              "      }\n",
              "    </script>\n",
              "  </div>\n",
              "\n",
              "\n",
              "<div id=\"df-6422698f-3ac7-4e95-8fd9-fbf32e4cebb2\">\n",
              "  <button class=\"colab-df-quickchart\" onclick=\"quickchart('df-6422698f-3ac7-4e95-8fd9-fbf32e4cebb2')\"\n",
              "            title=\"Suggest charts.\"\n",
              "            style=\"display:none;\">\n",
              "\n",
              "<svg xmlns=\"http://www.w3.org/2000/svg\" height=\"24px\"viewBox=\"0 0 24 24\"\n",
              "     width=\"24px\">\n",
              "    <g>\n",
              "        <path d=\"M19 3H5c-1.1 0-2 .9-2 2v14c0 1.1.9 2 2 2h14c1.1 0 2-.9 2-2V5c0-1.1-.9-2-2-2zM9 17H7v-7h2v7zm4 0h-2V7h2v10zm4 0h-2v-4h2v4z\"/>\n",
              "    </g>\n",
              "</svg>\n",
              "  </button>\n",
              "\n",
              "<style>\n",
              "  .colab-df-quickchart {\n",
              "      --bg-color: #E8F0FE;\n",
              "      --fill-color: #1967D2;\n",
              "      --hover-bg-color: #E2EBFA;\n",
              "      --hover-fill-color: #174EA6;\n",
              "      --disabled-fill-color: #AAA;\n",
              "      --disabled-bg-color: #DDD;\n",
              "  }\n",
              "\n",
              "  [theme=dark] .colab-df-quickchart {\n",
              "      --bg-color: #3B4455;\n",
              "      --fill-color: #D2E3FC;\n",
              "      --hover-bg-color: #434B5C;\n",
              "      --hover-fill-color: #FFFFFF;\n",
              "      --disabled-bg-color: #3B4455;\n",
              "      --disabled-fill-color: #666;\n",
              "  }\n",
              "\n",
              "  .colab-df-quickchart {\n",
              "    background-color: var(--bg-color);\n",
              "    border: none;\n",
              "    border-radius: 50%;\n",
              "    cursor: pointer;\n",
              "    display: none;\n",
              "    fill: var(--fill-color);\n",
              "    height: 32px;\n",
              "    padding: 0;\n",
              "    width: 32px;\n",
              "  }\n",
              "\n",
              "  .colab-df-quickchart:hover {\n",
              "    background-color: var(--hover-bg-color);\n",
              "    box-shadow: 0 1px 2px rgba(60, 64, 67, 0.3), 0 1px 3px 1px rgba(60, 64, 67, 0.15);\n",
              "    fill: var(--button-hover-fill-color);\n",
              "  }\n",
              "\n",
              "  .colab-df-quickchart-complete:disabled,\n",
              "  .colab-df-quickchart-complete:disabled:hover {\n",
              "    background-color: var(--disabled-bg-color);\n",
              "    fill: var(--disabled-fill-color);\n",
              "    box-shadow: none;\n",
              "  }\n",
              "\n",
              "  .colab-df-spinner {\n",
              "    border: 2px solid var(--fill-color);\n",
              "    border-color: transparent;\n",
              "    border-bottom-color: var(--fill-color);\n",
              "    animation:\n",
              "      spin 1s steps(1) infinite;\n",
              "  }\n",
              "\n",
              "  @keyframes spin {\n",
              "    0% {\n",
              "      border-color: transparent;\n",
              "      border-bottom-color: var(--fill-color);\n",
              "      border-left-color: var(--fill-color);\n",
              "    }\n",
              "    20% {\n",
              "      border-color: transparent;\n",
              "      border-left-color: var(--fill-color);\n",
              "      border-top-color: var(--fill-color);\n",
              "    }\n",
              "    30% {\n",
              "      border-color: transparent;\n",
              "      border-left-color: var(--fill-color);\n",
              "      border-top-color: var(--fill-color);\n",
              "      border-right-color: var(--fill-color);\n",
              "    }\n",
              "    40% {\n",
              "      border-color: transparent;\n",
              "      border-right-color: var(--fill-color);\n",
              "      border-top-color: var(--fill-color);\n",
              "    }\n",
              "    60% {\n",
              "      border-color: transparent;\n",
              "      border-right-color: var(--fill-color);\n",
              "    }\n",
              "    80% {\n",
              "      border-color: transparent;\n",
              "      border-right-color: var(--fill-color);\n",
              "      border-bottom-color: var(--fill-color);\n",
              "    }\n",
              "    90% {\n",
              "      border-color: transparent;\n",
              "      border-bottom-color: var(--fill-color);\n",
              "    }\n",
              "  }\n",
              "</style>\n",
              "\n",
              "  <script>\n",
              "    async function quickchart(key) {\n",
              "      const quickchartButtonEl =\n",
              "        document.querySelector('#' + key + ' button');\n",
              "      quickchartButtonEl.disabled = true;  // To prevent multiple clicks.\n",
              "      quickchartButtonEl.classList.add('colab-df-spinner');\n",
              "      try {\n",
              "        const charts = await google.colab.kernel.invokeFunction(\n",
              "            'suggestCharts', [key], {});\n",
              "      } catch (error) {\n",
              "        console.error('Error during call to suggestCharts:', error);\n",
              "      }\n",
              "      quickchartButtonEl.classList.remove('colab-df-spinner');\n",
              "      quickchartButtonEl.classList.add('colab-df-quickchart-complete');\n",
              "    }\n",
              "    (() => {\n",
              "      let quickchartButtonEl =\n",
              "        document.querySelector('#df-6422698f-3ac7-4e95-8fd9-fbf32e4cebb2 button');\n",
              "      quickchartButtonEl.style.display =\n",
              "        google.colab.kernel.accessAllowed ? 'block' : 'none';\n",
              "    })();\n",
              "  </script>\n",
              "</div>\n",
              "    </div>\n",
              "  </div>\n"
            ]
          },
          "metadata": {},
          "execution_count": 1
        }
      ],
      "source": [
        "import pandas as pd\n",
        "import numpy as np\n",
        "%matplotlib inline\n",
        "import matplotlib.pyplot as plt\n",
        "import seaborn as sns\n",
        "import folium\n",
        "\n",
        "from google.colab import drive\n",
        "drive.mount('/content/drive')\n",
        "\n",
        "df = pd.read_csv('drive/My Drive/MINDD/week_purchases18-25.txt', sep='\\t')\n",
        "df.head()\n",
        "\n"
      ]
    },
    {
      "cell_type": "code",
      "source": [
        "# a. check its size\n",
        "print(df.shape)\n",
        "print(\"Linhas\", df.shape[0])\n",
        "print(\"Colunas\", df.shape[1])\n",
        "print(df.columns.to_list())"
      ],
      "metadata": {
        "colab": {
          "base_uri": "https://localhost:8080/"
        },
        "id": "y3GLPPiBsYaz",
        "outputId": "bc62d32d-8eb6-4af0-e6b6-3d95996a1803"
      },
      "execution_count": 2,
      "outputs": [
        {
          "output_type": "stream",
          "name": "stdout",
          "text": [
            "(739, 16)\n",
            "Linhas 739\n",
            "Colunas 16\n",
            "['Username', 'TitleCli', 'Name', 'Address', 'Country', 'Gender', 'Age', 'Favourites', 'Order_ID', 'Product_ID', 'Style', 'Film_Title', 'Price', 'PurchTime', 'PurchDate', 'Buy_for']\n"
          ]
        }
      ]
    },
    {
      "cell_type": "code",
      "source": [
        "# b. get a summary of data\n",
        "print(df.describe())"
      ],
      "metadata": {
        "colab": {
          "base_uri": "https://localhost:8080/"
        },
        "id": "hpCok46AvEE3",
        "outputId": "d154c1db-64d7-4247-8da5-5d2718bf69db"
      },
      "execution_count": 3,
      "outputs": [
        {
          "output_type": "stream",
          "name": "stdout",
          "text": [
            "              Age   Product_ID       Price\n",
            "count  444.000000   739.000000  739.000000\n",
            "mean    43.182432  1039.170501    8.742368\n",
            "std     14.657891    17.813339    2.879627\n",
            "min     21.000000  1001.000000    5.990000\n",
            "25%     32.000000  1024.000000    5.990000\n",
            "50%     37.000000  1042.000000    7.990000\n",
            "75%     58.000000  1056.000000    9.990000\n",
            "max     75.000000  1062.000000   15.990000\n"
          ]
        }
      ]
    },
    {
      "cell_type": "code",
      "source": [
        "# c. check which columns are numeric and which are categorical\n",
        "df.dtypes\n",
        "# convert age float64 to integer\n",
        "df['Age'] = df['Age'].fillna(0).astype(int) # fillna(0) put 0 in missing values\n",
        "# purchase time objetc to time\n",
        "#df['PurchTime'] = pd.to_datetime(df['PurchTime'])\n",
        "# Converting date objetc to datetime\n",
        "df['PurchDate'] = pd.to_datetime(df['PurchDate'])\n",
        "df.dtypes"
      ],
      "metadata": {
        "colab": {
          "base_uri": "https://localhost:8080/"
        },
        "id": "spe_Rxxd7ocR",
        "outputId": "c75ba07d-3fcb-482a-8f2a-75fecc7649a3"
      },
      "execution_count": 4,
      "outputs": [
        {
          "output_type": "stream",
          "name": "stderr",
          "text": [
            "<ipython-input-4-3ba3b6eab50d>:8: UserWarning: Parsing dates in DD/MM/YYYY format when dayfirst=False (the default) was specified. This may lead to inconsistently parsed dates! Specify a format to ensure consistent parsing.\n",
            "  df['PurchDate'] = pd.to_datetime(df['PurchDate'])\n"
          ]
        },
        {
          "output_type": "execute_result",
          "data": {
            "text/plain": [
              "Username              object\n",
              "TitleCli              object\n",
              "Name                  object\n",
              "Address               object\n",
              "Country               object\n",
              "Gender                object\n",
              "Age                    int64\n",
              "Favourites            object\n",
              "Order_ID              object\n",
              "Product_ID             int64\n",
              "Style                 object\n",
              "Film_Title            object\n",
              "Price                float64\n",
              "PurchTime             object\n",
              "PurchDate     datetime64[ns]\n",
              "Buy_for               object\n",
              "dtype: object"
            ]
          },
          "metadata": {},
          "execution_count": 4
        }
      ]
    },
    {
      "cell_type": "code",
      "source": [
        "# d. check for missing data by rows and by columns\n",
        "df.isnull().sum(axis = 0)"
      ],
      "metadata": {
        "colab": {
          "base_uri": "https://localhost:8080/"
        },
        "id": "KOS5GxvF7uzK",
        "outputId": "66381bce-3e50-4c20-dddc-a1e5f0e9730e"
      },
      "execution_count": 5,
      "outputs": [
        {
          "output_type": "execute_result",
          "data": {
            "text/plain": [
              "Username        0\n",
              "TitleCli        0\n",
              "Name            0\n",
              "Address         0\n",
              "Country       295\n",
              "Gender        295\n",
              "Age             0\n",
              "Favourites    295\n",
              "Order_ID        0\n",
              "Product_ID      0\n",
              "Style           0\n",
              "Film_Title      0\n",
              "Price           0\n",
              "PurchTime       0\n",
              "PurchDate       0\n",
              "Buy_for       295\n",
              "dtype: int64"
            ]
          },
          "metadata": {},
          "execution_count": 5
        }
      ]
    },
    {
      "cell_type": "markdown",
      "source": [
        "## 2. Using the appropriate graphs, analyse the various attributes of the data set and make necessary corrections to the data.:"
      ],
      "metadata": {
        "id": "ZHWMDDRGBKd5"
      }
    },
    {
      "cell_type": "markdown",
      "source": [
        "#### a. Title Client"
      ],
      "metadata": {
        "id": "WcXgIuwIBtVF"
      }
    },
    {
      "cell_type": "markdown",
      "source": [
        "###### check client data, tabs before the title"
      ],
      "metadata": {
        "id": "MwbglDd8I9u7"
      }
    },
    {
      "cell_type": "code",
      "source": [
        "#Tabs before MRS, Miss and MR\n",
        "title_counts = df['TitleCli'].value_counts().reset_index()\n",
        "title_counts.columns = ['Title', 'Count']\n",
        "print(title_counts)\n"
      ],
      "metadata": {
        "id": "lqMfMTtAGTUY",
        "outputId": "31bf59b8-017f-47b2-9575-ae5640e462a6",
        "colab": {
          "base_uri": "https://localhost:8080/"
        }
      },
      "execution_count": null,
      "outputs": [
        {
          "output_type": "stream",
          "name": "stdout",
          "text": [
            "     Title  Count\n",
            "0     MR      186\n",
            "1    MRS      156\n",
            "2      MR     140\n",
            "3   MISS       99\n",
            "4     MRS      92\n",
            "5    MISS      66\n"
          ]
        }
      ]
    },
    {
      "cell_type": "code",
      "source": [
        "# a. Title Client\n",
        "import matplotlib.pyplot as plt\n",
        "import seaborn as sns\n",
        "\n",
        "title_counts = df['TitleCli'].value_counts()\n",
        "plt.figure(figsize=(6, 6))\n",
        "sns.barplot(x=title_counts.index, y=title_counts.values)\n",
        "plt.xticks(rotation=90)\n",
        "plt.xlabel('Título do Cliente')\n",
        "plt.ylabel('Contagem')\n",
        "plt.title('Contagem de Títulos de Clientes')\n",
        "plt.show()\n",
        "\n",
        "# Agrupe os dados por título de cliente e calcule a média da idade\n",
        "title_age_mean = df.groupby('TitleCli')['Age'].mean().reset_index()\n",
        "\n",
        "# Crie um gráfico de barras\n",
        "plt.figure(figsize=(6, 6))\n",
        "sns.barplot(x='TitleCli', y='Age', data=title_age_mean, palette='viridis')\n",
        "plt.xticks(rotation=90)\n",
        "plt.xlabel('Título do Cliente')\n",
        "plt.ylabel('Idade Média')\n",
        "plt.title('Idade Média por Título de Cliente')\n",
        "plt.show()"
      ],
      "metadata": {
        "colab": {
          "base_uri": "https://localhost:8080/"
        },
        "id": "DWU9ycNUApaO",
        "outputId": "c0c055fb-8249-439f-e6c3-a5a2dd75ebb9"
      },
      "execution_count": null,
      "outputs": [
        {
          "output_type": "display_data",
          "data": {
            "text/plain": [
              "<Figure size 600x600 with 1 Axes>"
            ],
            "image/png": "[encoded data removed]"
          },
          "metadata": {}
        },
        {
          "output_type": "display_data",
          "data": {
            "text/plain": [
              "<Figure size 600x600 with 1 Axes>"
            ],
            "image/png": "[encoded data removed]"
          },
          "metadata": {}
        }
      ]
    },
    {
      "cell_type": "markdown",
      "source": [
        "###### After remove tabs"
      ],
      "metadata": {
        "id": "JtAXeXr6JTuR"
      }
    },
    {
      "cell_type": "code",
      "source": [
        "# Removing Tabs\n",
        "title_counts = df['TitleCli'].value_counts().reset_index()\n",
        "#df['TitleCli'] = df['TitleCli'].str.strip() # remove spaces\n",
        "df['TitleCli'] = df['TitleCli'].str.replace(r'^\\s+|\\s+?$', '', regex=True) # remove tabs\n",
        "\n",
        "print(title_counts)"
      ],
      "metadata": {
        "id": "kYKjymFRItsA",
        "outputId": "8a8983d1-a540-4c3c-b84c-30fa1b187c5d",
        "colab": {
          "base_uri": "https://localhost:8080/"
        }
      },
      "execution_count": 70,
      "outputs": [
        {
          "output_type": "stream",
          "name": "stdout",
          "text": [
            "  index  TitleCli\n",
            "0    MR       326\n",
            "1   MRS       248\n",
            "2  MISS       165\n"
          ]
        }
      ]
    },
    {
      "cell_type": "code",
      "source": [
        "# a. Title Client\n",
        "import matplotlib.pyplot as plt\n",
        "import seaborn as sns\n",
        "\n",
        "title_counts = df['TitleCli'].value_counts()\n",
        "plt.figure(figsize=(6, 6))\n",
        "sns.barplot(x=title_counts.index, y=title_counts.values)\n",
        "plt.xticks(rotation=90)\n",
        "plt.xlabel('Título do Cliente')\n",
        "plt.ylabel('Contagem')\n",
        "plt.title('Contagem de Títulos de Clientes')\n",
        "plt.show()\n",
        "\n",
        "# Agrupe os dados por título de cliente e calcule a média da idade\n",
        "title_age_mean = df.groupby('TitleCli')['Age'].mean().reset_index()\n",
        "\n",
        "# Crie um gráfico de barras\n",
        "plt.figure(figsize=(6, 6))\n",
        "sns.barplot(x='TitleCli', y='Age', data=title_age_mean, palette='viridis')\n",
        "plt.xticks(rotation=90)\n",
        "plt.xlabel('Título do Cliente')\n",
        "plt.ylabel('Idade Média')\n",
        "plt.title('Idade Média por Título de Cliente')\n",
        "plt.show()"
      ],
      "metadata": {
        "colab": {
          "base_uri": "https://localhost:8080/",
          "height": 1000
        },
        "outputId": "c2292e29-d472-4d7b-d8b6-4a1f30760f68",
        "id": "8679JY11JgDr"
      },
      "execution_count": 71,
      "outputs": [
        {
          "output_type": "display_data",
          "data": {
            "text/plain": [
              "<Figure size 600x600 with 1 Axes>"
            ],
            "image/png": "[encoded data removed]"
          },
          "metadata": {}
        },
        {
          "output_type": "display_data",
          "data": {
            "text/plain": [
              "<Figure size 600x600 with 1 Axes>"
            ],
            "image/png": "[encoded data removed]"
          },
          "metadata": {}
        }
      ]
    },
    {
      "cell_type": "code",
      "source": [
        "plt.figure(figsize=(6, 6))\n",
        "sns.boxplot(x='TitleCli', y='Age', data=df)\n",
        "plt.xticks(rotation=90)\n",
        "plt.xlabel('Título do Cliente')\n",
        "plt.ylabel('Idade')\n",
        "plt.title('Distribuição de Idades dos Clientes por Título')\n",
        "plt.show()\n"
      ],
      "metadata": {
        "id": "faBgpQnhCTNo",
        "outputId": "c13ab486-a23d-4796-eb17-9d8c0b0d2273",
        "colab": {
          "base_uri": "https://localhost:8080/"
        }
      },
      "execution_count": null,
      "outputs": [
        {
          "output_type": "display_data",
          "data": {
            "text/plain": [
              "<Figure size 600x600 with 1 Axes>"
            ],
            "image/png": "[encoded data removed]"
          },
          "metadata": {}
        }
      ]
    },
    {
      "cell_type": "code",
      "source": [
        "plt.figure(figsize=(6, 6))\n",
        "title_proportions = df['TitleCli'].value_counts()\n",
        "plt.pie(title_proportions, labels=title_proportions.index, autopct='%1.1f%%')\n",
        "plt.title('Proporção de Títulos de Clientes')\n",
        "plt.show()\n"
      ],
      "metadata": {
        "id": "U0UzJYEBC5-Y",
        "outputId": "ca4c0e3e-4f86-4968-ba51-0e5a0b2a8ebf",
        "colab": {
          "base_uri": "https://localhost:8080/"
        }
      },
      "execution_count": null,
      "outputs": [
        {
          "output_type": "display_data",
          "data": {
            "text/plain": [
              "<Figure size 600x600 with 1 Axes>"
            ],
            "image/png": "[encoded data removed]"
          },
          "metadata": {}
        }
      ]
    },
    {
      "cell_type": "code",
      "source": [],
      "metadata": {
        "id": "qN_nTds7DQIU"
      },
      "execution_count": null,
      "outputs": []
    },
    {
      "cell_type": "markdown",
      "source": [
        "#### b. Gender"
      ],
      "metadata": {
        "id": "_Hlw1jvsELiW"
      }
    },
    {
      "cell_type": "markdown",
      "source": [
        "###### **Before** fill NaN values"
      ],
      "metadata": {
        "id": "Da6dNcc_MQkH"
      }
    },
    {
      "cell_type": "code",
      "source": [
        "gender_counts = df['Gender'].value_counts().reset_index()\n",
        "gender_counts = df['Gender'].value_counts(dropna=False)\n",
        "gender_counts2 = df.astype(str)['Gender'].value_counts() # alternative\n",
        "gender_counts.columns = ['Gender', 'Count']\n",
        "print(gender_counts)"
      ],
      "metadata": {
        "id": "VuBGWjjWJtcC",
        "outputId": "473dd8aa-220d-4229-b4da-8202e676b3e9",
        "colab": {
          "base_uri": "https://localhost:8080/"
        }
      },
      "execution_count": null,
      "outputs": [
        {
          "output_type": "stream",
          "name": "stdout",
          "text": [
            "NaN    295\n",
            "F      255\n",
            "M      189\n",
            "Name: Gender, dtype: int64\n"
          ]
        }
      ]
    },
    {
      "cell_type": "markdown",
      "source": [
        "###### **After** fill NaN values"
      ],
      "metadata": {
        "id": "kgRBJC4QMXIy"
      }
    },
    {
      "cell_type": "code",
      "source": [
        "df.loc[df['TitleCli'].str.startswith('MR'), 'Gender'] = 'M'\n",
        "df.loc[df['TitleCli'].str.startswith('MRS') | df['TitleCli'].str.startswith('MISS'), 'Gender'] = 'F'\n"
      ],
      "metadata": {
        "id": "M7MIwlHGMJX1"
      },
      "execution_count": null,
      "outputs": []
    },
    {
      "cell_type": "code",
      "source": [
        "gender_counts = df['Gender'].value_counts().reset_index()\n",
        "gender_counts = df['Gender'].value_counts(dropna=False) # count NaN values\n",
        "gender_counts2 = df.astype(str)['Gender'].value_counts() # alternative\n",
        "gender_counts.columns = ['Gender', 'Count']\n",
        "print(gender_counts)"
      ],
      "metadata": {
        "id": "l6I5HlEKMmxM",
        "colab": {
          "base_uri": "https://localhost:8080/"
        },
        "outputId": "41d2cab0-ab96-4f2f-b811-5b1cc66c542a"
      },
      "execution_count": null,
      "outputs": [
        {
          "output_type": "stream",
          "name": "stdout",
          "text": [
            "F    413\n",
            "M    326\n",
            "Name: Gender, dtype: int64\n"
          ]
        }
      ]
    },
    {
      "cell_type": "code",
      "source": [
        "title_counts = df['Gender'].value_counts()\n",
        "plt.figure(figsize=(6, 6))\n",
        "sns.barplot(x=title_counts.index, y=title_counts.values)\n",
        "plt.xticks(rotation=90)\n",
        "plt.xlabel('Gênero')\n",
        "plt.ylabel('Contagem')\n",
        "plt.title('Contagem de Títulos de Clientes')\n",
        "plt.show()"
      ],
      "metadata": {
        "id": "MeZqGttqEPgi",
        "outputId": "21fc769b-cc15-4363-c678-322296c9b892",
        "colab": {
          "base_uri": "https://localhost:8080/"
        }
      },
      "execution_count": null,
      "outputs": [
        {
          "output_type": "display_data",
          "data": {
            "text/plain": [
              "<Figure size 600x600 with 1 Axes>"
            ],
            "image/png": "[encoded data removed]"
          },
          "metadata": {}
        }
      ]
    },
    {
      "cell_type": "code",
      "source": [
        "gender_counts = df['Gender'].value_counts()\n",
        "plt.figure(figsize=(6, 6))\n",
        "plt.pie(gender_counts, labels=gender_counts.index, autopct='%1.1f%%', startangle=140)\n",
        "plt.axis('equal')\n",
        "plt.title('Proporção de Gênero de Clientes')\n",
        "plt.show()"
      ],
      "metadata": {
        "id": "mBzMoSemE7Ds",
        "outputId": "a86576fe-03bb-4a4e-ad77-fa3ffb2787ac",
        "colab": {
          "base_uri": "https://localhost:8080/"
        }
      },
      "execution_count": null,
      "outputs": [
        {
          "output_type": "display_data",
          "data": {
            "text/plain": [
              "<Figure size 600x600 with 1 Axes>"
            ],
            "image/png": "[encoded data removed]"
          },
          "metadata": {}
        }
      ]
    },
    {
      "cell_type": "code",
      "source": [
        "plt.figure(figsize=(10, 6))\n",
        "sns.histplot(df, x='Age', hue='Gender', multiple='stack', bins=20)\n",
        "plt.xlabel('Idade')\n",
        "plt.ylabel('Contagem')\n",
        "plt.title('Distribuição de Idade por Gênero')\n",
        "plt.legend(title='Gênero')\n",
        "plt.show()"
      ],
      "metadata": {
        "id": "MaRC6mHNFsaa",
        "outputId": "deed4223-b8f1-4c89-d3d4-03248b14c2f7",
        "colab": {
          "base_uri": "https://localhost:8080/"
        }
      },
      "execution_count": null,
      "outputs": [
        {
          "output_type": "stream",
          "name": "stderr",
          "text": [
            "WARNING:matplotlib.legend:No artists with labels found to put in legend.  Note that artists whose label start with an underscore are ignored when legend() is called with no argument.\n"
          ]
        },
        {
          "output_type": "display_data",
          "data": {
            "text/plain": [
              "<Figure size 1000x600 with 1 Axes>"
            ],
            "image/png": "[encoded data removed]"
          },
          "metadata": {}
        }
      ]
    },
    {
      "cell_type": "markdown",
      "source": [
        "#### c. Country"
      ],
      "metadata": {
        "id": "cO-MwzvXOEtl"
      }
    },
    {
      "cell_type": "code",
      "source": [
        "country_counts = df['Country'].value_counts().reset_index()\n",
        "#country_counts = df['Country'].value_counts(dropna=False) # alternative\n",
        "country_counts2 = df.astype(str)['Country'].value_counts()\n",
        "country_counts.columns = ['Country', 'Count']\n",
        "print(country_counts)"
      ],
      "metadata": {
        "colab": {
          "base_uri": "https://localhost:8080/"
        },
        "id": "Z35eZXUWOJ80",
        "outputId": "13403fbd-8a4f-42f9-d30f-9df695d31249"
      },
      "execution_count": null,
      "outputs": [
        {
          "output_type": "stream",
          "name": "stdout",
          "text": [
            "NaN              295\n",
            "UK               270\n",
            "USA              173\n",
            "OuterMongolia      1\n",
            "Name: Country, dtype: int64\n"
          ]
        }
      ]
    },
    {
      "cell_type": "markdown",
      "source": [
        "## 3. Check:"
      ],
      "metadata": {
        "id": "r3aNNTxsQ_gw"
      }
    },
    {
      "cell_type": "code",
      "source": [
        "df.columns"
      ],
      "metadata": {
        "colab": {
          "base_uri": "https://localhost:8080/"
        },
        "id": "iqmzU1qbRqHs",
        "outputId": "9f81aad8-e8dc-465e-cba9-3bcc38c720c6"
      },
      "execution_count": null,
      "outputs": [
        {
          "output_type": "execute_result",
          "data": {
            "text/plain": [
              "Index(['Username', 'TitleCli', 'Name', 'Address', 'Country', 'Gender', 'Age',\n",
              "       'Favourites', 'Order_ID', 'Product_ID', 'Style', 'Film_Title', 'Price',\n",
              "       'PurchTime', 'PurchDate', 'Buy_for'],\n",
              "      dtype='object')"
            ]
          },
          "metadata": {},
          "execution_count": 54
        }
      ]
    },
    {
      "cell_type": "code",
      "source": [
        "# d. Number of films sold by Style\n",
        "n_sold_films = df['Style'].value_counts()\n",
        "n_sold_films.columns = ['Style', 'Number of Films Sold']\n",
        "print(n_sold_films)\n",
        "\n"
      ],
      "metadata": {
        "colab": {
          "base_uri": "https://localhost:8080/"
        },
        "id": "le9nG5RgRFCo",
        "outputId": "f4353495-05e1-4c61-d270-c167de61ae4a"
      },
      "execution_count": null,
      "outputs": [
        {
          "output_type": "stream",
          "name": "stdout",
          "text": [
            "Comedy       214\n",
            "Children     151\n",
            "Drama         94\n",
            "Sci-Fi        92\n",
            "Western       63\n",
            "Horror        50\n",
            "Adventure     47\n",
            "Musical       28\n",
            "Name: Style, dtype: int64\n"
          ]
        }
      ]
    },
    {
      "cell_type": "code",
      "source": [
        "# e. Number of different Film_Title sold by Style\n",
        "films_by_style = df.groupby('Style')['Film_Title'].nunique().reset_index()\n",
        "films_by_style.columns = ['Style', 'Different Film Titles Sold']\n",
        "\n",
        "print(films_by_style)"
      ],
      "metadata": {
        "colab": {
          "base_uri": "https://localhost:8080/"
        },
        "id": "jaLPDfDUSJgS",
        "outputId": "950a774f-7853-4dce-f015-cbce736e3108"
      },
      "execution_count": null,
      "outputs": [
        {
          "output_type": "stream",
          "name": "stdout",
          "text": [
            "       Style  Different Film Titles Sold\n",
            "0  Adventure                           5\n",
            "1  Children                            3\n",
            "2     Comedy                          18\n",
            "3      Drama                           3\n",
            "4     Horror                           4\n",
            "5    Musical                           5\n",
            "6     Sci-Fi                          11\n",
            "7    Western                          12\n"
          ]
        }
      ]
    },
    {
      "cell_type": "code",
      "source": [
        "# f. Number of units sold for each Film_title / Style\n",
        "units_sold_by_title_style = df.groupby(['Style', 'Film_Title'])['Style'].count().reset_index(name='Number of Units Sold')\n",
        "units_sold_by_title_style.columns = ['Style', 'Film_Title', 'Number of Units Sold']\n",
        "print(units_sold_by_title_style)"
      ],
      "metadata": {
        "colab": {
          "base_uri": "https://localhost:8080/"
        },
        "id": "W0u2cxqMT_FB",
        "outputId": "b07cf073-3ad5-489d-c10e-02be9cd1bd49"
      },
      "execution_count": null,
      "outputs": [
        {
          "output_type": "stream",
          "name": "stdout",
          "text": [
            "        Style                                         Film_Title  \\\n",
            "0   Adventure                                         Hard Rider   \n",
            "1   Adventure                                     LighteningBall   \n",
            "2   Adventure                                     The Fourth Man   \n",
            "3   Adventure                                        The IP File   \n",
            "4   Adventure                                     The Nine Rules   \n",
            "..        ...                                                ...   \n",
            "56    Western                                        The Finders   \n",
            "57    Western  The Nice the not so nice and the visually chal...   \n",
            "58    Western                                    The average six   \n",
            "59    Western                                         TheatreBus   \n",
            "60    Western                                          True Salt   \n",
            "\n",
            "    Number of Units Sold  \n",
            "0                      9  \n",
            "1                      7  \n",
            "2                     10  \n",
            "3                     11  \n",
            "4                     10  \n",
            "..                   ...  \n",
            "56                     3  \n",
            "57                     5  \n",
            "58                     4  \n",
            "59                    17  \n",
            "60                     3  \n",
            "\n",
            "[61 rows x 3 columns]\n"
          ]
        }
      ]
    },
    {
      "cell_type": "code",
      "source": [
        "# Number of Customers who bought 1,2,3,4 DVDs\n",
        "\n",
        "# Count the number of times each customer appears in the DataFrame\n",
        "customer_counts = df['Username'].value_counts().reset_index(name='Number of') # return username and number of bought\n",
        "#customer_counts.columns = ['Username', 'Number of']\n",
        "counts = customer_counts['Number of'].value_counts().sort_index() # do the same but return the number of cliente bought each number.\n",
        "print(customer_counts)\n",
        "print(counts)"
      ],
      "metadata": {
        "colab": {
          "base_uri": "https://localhost:8080/"
        },
        "id": "b0NSqe-lU8mX",
        "outputId": "cf24dd9c-658f-4f1f-ef38-70fa3b522a90"
      },
      "execution_count": null,
      "outputs": [
        {
          "output_type": "stream",
          "name": "stdout",
          "text": [
            "            index  Number of\n",
            "0    user_3646485          4\n",
            "1     user_346403          4\n",
            "2    user_3066049          3\n",
            "3    user_2110889          3\n",
            "4    user_3945846          3\n",
            "..            ...        ...\n",
            "630   user_253560          1\n",
            "631  user_2536223          1\n",
            "632  user_2539819          1\n",
            "633  user_2543844          1\n",
            "634   user_993341          1\n",
            "\n",
            "[635 rows x 2 columns]\n",
            "1    547\n",
            "2     74\n",
            "3     12\n",
            "4      2\n",
            "Name: Number of, dtype: int64\n"
          ]
        }
      ]
    },
    {
      "cell_type": "code",
      "source": [
        "# h. Create a summary table with Style/Uni_Vnd/Min_Prc/Max_Prk/Avg_Prck/DesvPad_Prd\n",
        "\n",
        "sold_by_style = df['Style'].value_counts()\n",
        "min_price = df['Price'].min()\n",
        "max_price = df['Price'].max()\n",
        "avg_price = df['Price'].mean().round(2)\n",
        "print(df.columns)\n",
        "print(sold_by_style)\n",
        "print(\"Min price:\" , min_price)\n",
        "print(\"Max price:\" , max_price)\n",
        "print(\"Avg price:\" , avg_price)"
      ],
      "metadata": {
        "id": "UE3JnP2uv4f3",
        "colab": {
          "base_uri": "https://localhost:8080/"
        },
        "outputId": "752eee88-f70b-4730-f06b-e8b48e934781"
      },
      "execution_count": null,
      "outputs": [
        {
          "output_type": "stream",
          "name": "stdout",
          "text": [
            "Index(['Username', 'TitleCli', 'Name', 'Address', 'Country', 'Gender', 'Age',\n",
            "       'Favourites', 'Order_ID', 'Product_ID', 'Style', 'Film_Title', 'Price',\n",
            "       'PurchTime', 'PurchDate', 'Buy_for'],\n",
            "      dtype='object')\n",
            "Comedy       214\n",
            "Children     151\n",
            "Drama         94\n",
            "Sci-Fi        92\n",
            "Western       63\n",
            "Horror        50\n",
            "Adventure     47\n",
            "Musical       28\n",
            "Name: Style, dtype: int64\n",
            "Min price: 5.99\n",
            "Max price: 15.99\n",
            "Avg price: 8.74\n"
          ]
        }
      ]
    },
    {
      "cell_type": "code",
      "source": [
        "import pandas as pd\n",
        "\n",
        "# Suponhamos que 'df' seja o seu DataFrame original\n",
        "\n",
        "# Agrupe os dados por 'Style' e calcule as estatísticas\n",
        "summary_table = df.groupby('Style').agg({\n",
        "    'Style': 'count',          # Contagem de vendas por estilo\n",
        "    'Price': ['min', 'max', 'mean', 'std']  # Preço mínimo, máximo, médio e desvio padrão\n",
        "})\n",
        "\n",
        "# Renomeie as colunas do resumo\n",
        "summary_table.columns = ['Uni_Vnd', 'Min_Prc', 'Max_Prk', 'Avg_Prck', 'DesvPad_Prd']\n",
        "\n",
        "# Arredonde os valores\n",
        "summary_table['Avg_Prck'] = summary_table['Avg_Prck'].round(2)\n",
        "summary_table['DesvPad_Prd'] = summary_table['DesvPad_Prd'].round(2)\n",
        "\n",
        "# Reset do índice para ter 'Style' como uma coluna em vez de um índice\n",
        "summary_table.reset_index(inplace=True)\n",
        "\n",
        "# Renomeie a coluna 'Style' para 'Estilo' (caso deseje)\n",
        "summary_table.rename(columns={'Style': 'Estilo'}, inplace=True)\n",
        "\n",
        "# Exiba a tabela de resumo\n",
        "print(summary_table)\n"
      ],
      "metadata": {
        "id": "m7mFyy_n0CgY",
        "outputId": "a7b447f3-6cd2-4a9f-c6f7-870771e7e2ef",
        "colab": {
          "base_uri": "https://localhost:8080/"
        }
      },
      "execution_count": null,
      "outputs": [
        {
          "output_type": "stream",
          "name": "stdout",
          "text": [
            "      Estilo  Uni_Vnd  Min_Prc  Max_Prk  Avg_Prck  DesvPad_Prd\n",
            "0  Adventure       47     7.99    12.99     11.61         1.95\n",
            "1  Children       151     5.99     5.99      5.99         0.00\n",
            "2     Comedy      214     5.99    15.99     10.03         3.33\n",
            "3      Drama       94     7.99     7.99      7.99         0.00\n",
            "4     Horror       50     5.99     8.99      7.31         1.46\n",
            "5    Musical       28     5.99     5.99      5.99         0.00\n",
            "6     Sci-Fi       92     5.99    15.99     10.69         2.31\n",
            "7    Western       63     5.99    12.99      9.48         2.42\n"
          ]
        }
      ]
    },
    {
      "cell_type": "code",
      "source": [
        "df.columns"
      ],
      "metadata": {
        "id": "ACmo89QwkwqI",
        "outputId": "a3524c23-25af-45ee-f4c1-46cd4dee89ab",
        "colab": {
          "base_uri": "https://localhost:8080/"
        }
      },
      "execution_count": 32,
      "outputs": [
        {
          "output_type": "execute_result",
          "data": {
            "text/plain": [
              "Index(['Username', 'TitleCli', 'Name', 'Address', 'Country', 'Gender', 'Age',\n",
              "       'Favourites', 'Order_ID', 'Product_ID', 'Style', 'Film_Title', 'Price',\n",
              "       'PurchTime', 'PurchDate', 'Buy_for'],\n",
              "      dtype='object')"
            ]
          },
          "metadata": {},
          "execution_count": 32
        }
      ]
    },
    {
      "cell_type": "code",
      "source": [
        "# Number of films sold by Style\n",
        "\n",
        "df2 = df.groupby('Style')[['Price','Age']].agg({'Price': 'mean', 'Age': 'std'}).reset_index()\n",
        "df2"
      ],
      "metadata": {
        "id": "GyLYKmim1UHA",
        "outputId": "3053def3-8b4a-4ad8-de03-295663e411d9",
        "colab": {
          "base_uri": "https://localhost:8080/",
          "height": 300
        }
      },
      "execution_count": 52,
      "outputs": [
        {
          "output_type": "execute_result",
          "data": {
            "text/plain": [
              "       Style      Price        Age\n",
              "0  Adventure  11.607021  16.308911\n",
              "1  Children    5.990000  16.104252\n",
              "2     Comedy  10.027383  19.969720\n",
              "3      Drama   7.990000  29.318009\n",
              "4     Horror   7.310000  27.192654\n",
              "5    Musical   5.990000  11.342200\n",
              "6     Sci-Fi  10.685652  26.935395\n",
              "7    Western   9.482063  27.243746"
            ],
            "text/html": [
              "\n",
              "  <div id=\"df-61237696-b183-4ea6-894d-4195865fbee4\" class=\"colab-df-container\">\n",
              "    <div>\n",
              "<style scoped>\n",
              "    .dataframe tbody tr th:only-of-type {\n",
              "        vertical-align: middle;\n",
              "    }\n",
              "\n",
              "    .dataframe tbody tr th {\n",
              "        vertical-align: top;\n",
              "    }\n",
              "\n",
              "    .dataframe thead th {\n",
              "        text-align: right;\n",
              "    }\n",
              "</style>\n",
              "<table border=\"1\" class=\"dataframe\">\n",
              "  <thead>\n",
              "    <tr style=\"text-align: right;\">\n",
              "      <th></th>\n",
              "      <th>Style</th>\n",
              "      <th>Price</th>\n",
              "      <th>Age</th>\n",
              "    </tr>\n",
              "  </thead>\n",
              "  <tbody>\n",
              "    <tr>\n",
              "      <th>0</th>\n",
              "      <td>Adventure</td>\n",
              "      <td>11.607021</td>\n",
              "      <td>16.308911</td>\n",
              "    </tr>\n",
              "    <tr>\n",
              "      <th>1</th>\n",
              "      <td>Children</td>\n",
              "      <td>5.990000</td>\n",
              "      <td>16.104252</td>\n",
              "    </tr>\n",
              "    <tr>\n",
              "      <th>2</th>\n",
              "      <td>Comedy</td>\n",
              "      <td>10.027383</td>\n",
              "      <td>19.969720</td>\n",
              "    </tr>\n",
              "    <tr>\n",
              "      <th>3</th>\n",
              "      <td>Drama</td>\n",
              "      <td>7.990000</td>\n",
              "      <td>29.318009</td>\n",
              "    </tr>\n",
              "    <tr>\n",
              "      <th>4</th>\n",
              "      <td>Horror</td>\n",
              "      <td>7.310000</td>\n",
              "      <td>27.192654</td>\n",
              "    </tr>\n",
              "    <tr>\n",
              "      <th>5</th>\n",
              "      <td>Musical</td>\n",
              "      <td>5.990000</td>\n",
              "      <td>11.342200</td>\n",
              "    </tr>\n",
              "    <tr>\n",
              "      <th>6</th>\n",
              "      <td>Sci-Fi</td>\n",
              "      <td>10.685652</td>\n",
              "      <td>26.935395</td>\n",
              "    </tr>\n",
              "    <tr>\n",
              "      <th>7</th>\n",
              "      <td>Western</td>\n",
              "      <td>9.482063</td>\n",
              "      <td>27.243746</td>\n",
              "    </tr>\n",
              "  </tbody>\n",
              "</table>\n",
              "</div>\n",
              "    <div class=\"colab-df-buttons\">\n",
              "\n",
              "  <div class=\"colab-df-container\">\n",
              "    <button class=\"colab-df-convert\" onclick=\"convertToInteractive('df-61237696-b183-4ea6-894d-4195865fbee4')\"\n",
              "            title=\"Convert this dataframe to an interactive table.\"\n",
              "            style=\"display:none;\">\n",
              "\n",
              "  <svg xmlns=\"http://www.w3.org/2000/svg\" height=\"24px\" viewBox=\"0 -960 960 960\">\n",
              "    <path d=\"M120-120v-720h720v720H120Zm60-500h600v-160H180v160Zm220 220h160v-160H400v160Zm0 220h160v-160H400v160ZM180-400h160v-160H180v160Zm440 0h160v-160H620v160ZM180-180h160v-160H180v160Zm440 0h160v-160H620v160Z\"/>\n",
              "  </svg>\n",
              "    </button>\n",
              "\n",
              "  <style>\n",
              "    .colab-df-container {\n",
              "      display:flex;\n",
              "      gap: 12px;\n",
              "    }\n",
              "\n",
              "    .colab-df-convert {\n",
              "      background-color: #E8F0FE;\n",
              "      border: none;\n",
              "      border-radius: 50%;\n",
              "      cursor: pointer;\n",
              "      display: none;\n",
              "      fill: #1967D2;\n",
              "      height: 32px;\n",
              "      padding: 0 0 0 0;\n",
              "      width: 32px;\n",
              "    }\n",
              "\n",
              "    .colab-df-convert:hover {\n",
              "      background-color: #E2EBFA;\n",
              "      box-shadow: 0px 1px 2px rgba(60, 64, 67, 0.3), 0px 1px 3px 1px rgba(60, 64, 67, 0.15);\n",
              "      fill: #174EA6;\n",
              "    }\n",
              "\n",
              "    .colab-df-buttons div {\n",
              "      margin-bottom: 4px;\n",
              "    }\n",
              "\n",
              "    [theme=dark] .colab-df-convert {\n",
              "      background-color: #3B4455;\n",
              "      fill: #D2E3FC;\n",
              "    }\n",
              "\n",
              "    [theme=dark] .colab-df-convert:hover {\n",
              "      background-color: #434B5C;\n",
              "      box-shadow: 0px 1px 3px 1px rgba(0, 0, 0, 0.15);\n",
              "      filter: drop-shadow(0px 1px 2px rgba(0, 0, 0, 0.3));\n",
              "      fill: #FFFFFF;\n",
              "    }\n",
              "  </style>\n",
              "\n",
              "    <script>\n",
              "      const buttonEl =\n",
              "        document.querySelector('#df-61237696-b183-4ea6-894d-4195865fbee4 button.colab-df-convert');\n",
              "      buttonEl.style.display =\n",
              "        google.colab.kernel.accessAllowed ? 'block' : 'none';\n",
              "\n",
              "      async function convertToInteractive(key) {\n",
              "        const element = document.querySelector('#df-61237696-b183-4ea6-894d-4195865fbee4');\n",
              "        const dataTable =\n",
              "          await google.colab.kernel.invokeFunction('convertToInteractive',\n",
              "                                                    [key], {});\n",
              "        if (!dataTable) return;\n",
              "\n",
              "        const docLinkHtml = 'Like what you see? Visit the ' +\n",
              "          '<a target=\"_blank\" href=https://colab.research.google.com/notebooks/data_table.ipynb>data table notebook</a>'\n",
              "          + ' to learn more about interactive tables.';\n",
              "        element.innerHTML = '';\n",
              "        dataTable['output_type'] = 'display_data';\n",
              "        await google.colab.output.renderOutput(dataTable, element);\n",
              "        const docLink = document.createElement('div');\n",
              "        docLink.innerHTML = docLinkHtml;\n",
              "        element.appendChild(docLink);\n",
              "      }\n",
              "    </script>\n",
              "  </div>\n",
              "\n",
              "\n",
              "<div id=\"df-74c1a795-87ff-4ec2-88b0-3de9f24e2d34\">\n",
              "  <button class=\"colab-df-quickchart\" onclick=\"quickchart('df-74c1a795-87ff-4ec2-88b0-3de9f24e2d34')\"\n",
              "            title=\"Suggest charts.\"\n",
              "            style=\"display:none;\">\n",
              "\n",
              "<svg xmlns=\"http://www.w3.org/2000/svg\" height=\"24px\"viewBox=\"0 0 24 24\"\n",
              "     width=\"24px\">\n",
              "    <g>\n",
              "        <path d=\"M19 3H5c-1.1 0-2 .9-2 2v14c0 1.1.9 2 2 2h14c1.1 0 2-.9 2-2V5c0-1.1-.9-2-2-2zM9 17H7v-7h2v7zm4 0h-2V7h2v10zm4 0h-2v-4h2v4z\"/>\n",
              "    </g>\n",
              "</svg>\n",
              "  </button>\n",
              "\n",
              "<style>\n",
              "  .colab-df-quickchart {\n",
              "      --bg-color: #E8F0FE;\n",
              "      --fill-color: #1967D2;\n",
              "      --hover-bg-color: #E2EBFA;\n",
              "      --hover-fill-color: #174EA6;\n",
              "      --disabled-fill-color: #AAA;\n",
              "      --disabled-bg-color: #DDD;\n",
              "  }\n",
              "\n",
              "  [theme=dark] .colab-df-quickchart {\n",
              "      --bg-color: #3B4455;\n",
              "      --fill-color: #D2E3FC;\n",
              "      --hover-bg-color: #434B5C;\n",
              "      --hover-fill-color: #FFFFFF;\n",
              "      --disabled-bg-color: #3B4455;\n",
              "      --disabled-fill-color: #666;\n",
              "  }\n",
              "\n",
              "  .colab-df-quickchart {\n",
              "    background-color: var(--bg-color);\n",
              "    border: none;\n",
              "    border-radius: 50%;\n",
              "    cursor: pointer;\n",
              "    display: none;\n",
              "    fill: var(--fill-color);\n",
              "    height: 32px;\n",
              "    padding: 0;\n",
              "    width: 32px;\n",
              "  }\n",
              "\n",
              "  .colab-df-quickchart:hover {\n",
              "    background-color: var(--hover-bg-color);\n",
              "    box-shadow: 0 1px 2px rgba(60, 64, 67, 0.3), 0 1px 3px 1px rgba(60, 64, 67, 0.15);\n",
              "    fill: var(--button-hover-fill-color);\n",
              "  }\n",
              "\n",
              "  .colab-df-quickchart-complete:disabled,\n",
              "  .colab-df-quickchart-complete:disabled:hover {\n",
              "    background-color: var(--disabled-bg-color);\n",
              "    fill: var(--disabled-fill-color);\n",
              "    box-shadow: none;\n",
              "  }\n",
              "\n",
              "  .colab-df-spinner {\n",
              "    border: 2px solid var(--fill-color);\n",
              "    border-color: transparent;\n",
              "    border-bottom-color: var(--fill-color);\n",
              "    animation:\n",
              "      spin 1s steps(1) infinite;\n",
              "  }\n",
              "\n",
              "  @keyframes spin {\n",
              "    0% {\n",
              "      border-color: transparent;\n",
              "      border-bottom-color: var(--fill-color);\n",
              "      border-left-color: var(--fill-color);\n",
              "    }\n",
              "    20% {\n",
              "      border-color: transparent;\n",
              "      border-left-color: var(--fill-color);\n",
              "      border-top-color: var(--fill-color);\n",
              "    }\n",
              "    30% {\n",
              "      border-color: transparent;\n",
              "      border-left-color: var(--fill-color);\n",
              "      border-top-color: var(--fill-color);\n",
              "      border-right-color: var(--fill-color);\n",
              "    }\n",
              "    40% {\n",
              "      border-color: transparent;\n",
              "      border-right-color: var(--fill-color);\n",
              "      border-top-color: var(--fill-color);\n",
              "    }\n",
              "    60% {\n",
              "      border-color: transparent;\n",
              "      border-right-color: var(--fill-color);\n",
              "    }\n",
              "    80% {\n",
              "      border-color: transparent;\n",
              "      border-right-color: var(--fill-color);\n",
              "      border-bottom-color: var(--fill-color);\n",
              "    }\n",
              "    90% {\n",
              "      border-color: transparent;\n",
              "      border-bottom-color: var(--fill-color);\n",
              "    }\n",
              "  }\n",
              "</style>\n",
              "\n",
              "  <script>\n",
              "    async function quickchart(key) {\n",
              "      const quickchartButtonEl =\n",
              "        document.querySelector('#' + key + ' button');\n",
              "      quickchartButtonEl.disabled = true;  // To prevent multiple clicks.\n",
              "      quickchartButtonEl.classList.add('colab-df-spinner');\n",
              "      try {\n",
              "        const charts = await google.colab.kernel.invokeFunction(\n",
              "            'suggestCharts', [key], {});\n",
              "      } catch (error) {\n",
              "        console.error('Error during call to suggestCharts:', error);\n",
              "      }\n",
              "      quickchartButtonEl.classList.remove('colab-df-spinner');\n",
              "      quickchartButtonEl.classList.add('colab-df-quickchart-complete');\n",
              "    }\n",
              "    (() => {\n",
              "      let quickchartButtonEl =\n",
              "        document.querySelector('#df-74c1a795-87ff-4ec2-88b0-3de9f24e2d34 button');\n",
              "      quickchartButtonEl.style.display =\n",
              "        google.colab.kernel.accessAllowed ? 'block' : 'none';\n",
              "    })();\n",
              "  </script>\n",
              "</div>\n",
              "    </div>\n",
              "  </div>\n"
            ]
          },
          "metadata": {},
          "execution_count": 52
        }
      ]
    },
    {
      "cell_type": "code",
      "source": [
        "# Number of different Film_Title sold by Style\n",
        "\n",
        "df3 = df.groupby('Style')['Film_Title'].nunique().reset_index(name='Number_of_Styles')\n",
        "df3"
      ],
      "metadata": {
        "id": "IpLteTsR2HpD",
        "outputId": "3ed72049-1d50-416f-fb3a-a5581382e50b",
        "colab": {
          "base_uri": "https://localhost:8080/",
          "height": 300
        }
      },
      "execution_count": 68,
      "outputs": [
        {
          "output_type": "execute_result",
          "data": {
            "text/plain": [
              "       Style  Number_of_Styles\n",
              "0  Adventure                 5\n",
              "1  Children                  3\n",
              "2     Comedy                18\n",
              "3      Drama                 3\n",
              "4     Horror                 4\n",
              "5    Musical                 5\n",
              "6     Sci-Fi                11\n",
              "7    Western                12"
            ],
            "text/html": [
              "\n",
              "  <div id=\"df-7be0b3d4-75cf-4f36-b453-eb6597e314e7\" class=\"colab-df-container\">\n",
              "    <div>\n",
              "<style scoped>\n",
              "    .dataframe tbody tr th:only-of-type {\n",
              "        vertical-align: middle;\n",
              "    }\n",
              "\n",
              "    .dataframe tbody tr th {\n",
              "        vertical-align: top;\n",
              "    }\n",
              "\n",
              "    .dataframe thead th {\n",
              "        text-align: right;\n",
              "    }\n",
              "</style>\n",
              "<table border=\"1\" class=\"dataframe\">\n",
              "  <thead>\n",
              "    <tr style=\"text-align: right;\">\n",
              "      <th></th>\n",
              "      <th>Style</th>\n",
              "      <th>Number_of_Styles</th>\n",
              "    </tr>\n",
              "  </thead>\n",
              "  <tbody>\n",
              "    <tr>\n",
              "      <th>0</th>\n",
              "      <td>Adventure</td>\n",
              "      <td>5</td>\n",
              "    </tr>\n",
              "    <tr>\n",
              "      <th>1</th>\n",
              "      <td>Children</td>\n",
              "      <td>3</td>\n",
              "    </tr>\n",
              "    <tr>\n",
              "      <th>2</th>\n",
              "      <td>Comedy</td>\n",
              "      <td>18</td>\n",
              "    </tr>\n",
              "    <tr>\n",
              "      <th>3</th>\n",
              "      <td>Drama</td>\n",
              "      <td>3</td>\n",
              "    </tr>\n",
              "    <tr>\n",
              "      <th>4</th>\n",
              "      <td>Horror</td>\n",
              "      <td>4</td>\n",
              "    </tr>\n",
              "    <tr>\n",
              "      <th>5</th>\n",
              "      <td>Musical</td>\n",
              "      <td>5</td>\n",
              "    </tr>\n",
              "    <tr>\n",
              "      <th>6</th>\n",
              "      <td>Sci-Fi</td>\n",
              "      <td>11</td>\n",
              "    </tr>\n",
              "    <tr>\n",
              "      <th>7</th>\n",
              "      <td>Western</td>\n",
              "      <td>12</td>\n",
              "    </tr>\n",
              "  </tbody>\n",
              "</table>\n",
              "</div>\n",
              "    <div class=\"colab-df-buttons\">\n",
              "\n",
              "  <div class=\"colab-df-container\">\n",
              "    <button class=\"colab-df-convert\" onclick=\"convertToInteractive('df-7be0b3d4-75cf-4f36-b453-eb6597e314e7')\"\n",
              "            title=\"Convert this dataframe to an interactive table.\"\n",
              "            style=\"display:none;\">\n",
              "\n",
              "  <svg xmlns=\"http://www.w3.org/2000/svg\" height=\"24px\" viewBox=\"0 -960 960 960\">\n",
              "    <path d=\"M120-120v-720h720v720H120Zm60-500h600v-160H180v160Zm220 220h160v-160H400v160Zm0 220h160v-160H400v160ZM180-400h160v-160H180v160Zm440 0h160v-160H620v160ZM180-180h160v-160H180v160Zm440 0h160v-160H620v160Z\"/>\n",
              "  </svg>\n",
              "    </button>\n",
              "\n",
              "  <style>\n",
              "    .colab-df-container {\n",
              "      display:flex;\n",
              "      gap: 12px;\n",
              "    }\n",
              "\n",
              "    .colab-df-convert {\n",
              "      background-color: #E8F0FE;\n",
              "      border: none;\n",
              "      border-radius: 50%;\n",
              "      cursor: pointer;\n",
              "      display: none;\n",
              "      fill: #1967D2;\n",
              "      height: 32px;\n",
              "      padding: 0 0 0 0;\n",
              "      width: 32px;\n",
              "    }\n",
              "\n",
              "    .colab-df-convert:hover {\n",
              "      background-color: #E2EBFA;\n",
              "      box-shadow: 0px 1px 2px rgba(60, 64, 67, 0.3), 0px 1px 3px 1px rgba(60, 64, 67, 0.15);\n",
              "      fill: #174EA6;\n",
              "    }\n",
              "\n",
              "    .colab-df-buttons div {\n",
              "      margin-bottom: 4px;\n",
              "    }\n",
              "\n",
              "    [theme=dark] .colab-df-convert {\n",
              "      background-color: #3B4455;\n",
              "      fill: #D2E3FC;\n",
              "    }\n",
              "\n",
              "    [theme=dark] .colab-df-convert:hover {\n",
              "      background-color: #434B5C;\n",
              "      box-shadow: 0px 1px 3px 1px rgba(0, 0, 0, 0.15);\n",
              "      filter: drop-shadow(0px 1px 2px rgba(0, 0, 0, 0.3));\n",
              "      fill: #FFFFFF;\n",
              "    }\n",
              "  </style>\n",
              "\n",
              "    <script>\n",
              "      const buttonEl =\n",
              "        document.querySelector('#df-7be0b3d4-75cf-4f36-b453-eb6597e314e7 button.colab-df-convert');\n",
              "      buttonEl.style.display =\n",
              "        google.colab.kernel.accessAllowed ? 'block' : 'none';\n",
              "\n",
              "      async function convertToInteractive(key) {\n",
              "        const element = document.querySelector('#df-7be0b3d4-75cf-4f36-b453-eb6597e314e7');\n",
              "        const dataTable =\n",
              "          await google.colab.kernel.invokeFunction('convertToInteractive',\n",
              "                                                    [key], {});\n",
              "        if (!dataTable) return;\n",
              "\n",
              "        const docLinkHtml = 'Like what you see? Visit the ' +\n",
              "          '<a target=\"_blank\" href=https://colab.research.google.com/notebooks/data_table.ipynb>data table notebook</a>'\n",
              "          + ' to learn more about interactive tables.';\n",
              "        element.innerHTML = '';\n",
              "        dataTable['output_type'] = 'display_data';\n",
              "        await google.colab.output.renderOutput(dataTable, element);\n",
              "        const docLink = document.createElement('div');\n",
              "        docLink.innerHTML = docLinkHtml;\n",
              "        element.appendChild(docLink);\n",
              "      }\n",
              "    </script>\n",
              "  </div>\n",
              "\n",
              "\n",
              "<div id=\"df-1300741a-c7ea-418e-85db-8175124fa107\">\n",
              "  <button class=\"colab-df-quickchart\" onclick=\"quickchart('df-1300741a-c7ea-418e-85db-8175124fa107')\"\n",
              "            title=\"Suggest charts.\"\n",
              "            style=\"display:none;\">\n",
              "\n",
              "<svg xmlns=\"http://www.w3.org/2000/svg\" height=\"24px\"viewBox=\"0 0 24 24\"\n",
              "     width=\"24px\">\n",
              "    <g>\n",
              "        <path d=\"M19 3H5c-1.1 0-2 .9-2 2v14c0 1.1.9 2 2 2h14c1.1 0 2-.9 2-2V5c0-1.1-.9-2-2-2zM9 17H7v-7h2v7zm4 0h-2V7h2v10zm4 0h-2v-4h2v4z\"/>\n",
              "    </g>\n",
              "</svg>\n",
              "  </button>\n",
              "\n",
              "<style>\n",
              "  .colab-df-quickchart {\n",
              "      --bg-color: #E8F0FE;\n",
              "      --fill-color: #1967D2;\n",
              "      --hover-bg-color: #E2EBFA;\n",
              "      --hover-fill-color: #174EA6;\n",
              "      --disabled-fill-color: #AAA;\n",
              "      --disabled-bg-color: #DDD;\n",
              "  }\n",
              "\n",
              "  [theme=dark] .colab-df-quickchart {\n",
              "      --bg-color: #3B4455;\n",
              "      --fill-color: #D2E3FC;\n",
              "      --hover-bg-color: #434B5C;\n",
              "      --hover-fill-color: #FFFFFF;\n",
              "      --disabled-bg-color: #3B4455;\n",
              "      --disabled-fill-color: #666;\n",
              "  }\n",
              "\n",
              "  .colab-df-quickchart {\n",
              "    background-color: var(--bg-color);\n",
              "    border: none;\n",
              "    border-radius: 50%;\n",
              "    cursor: pointer;\n",
              "    display: none;\n",
              "    fill: var(--fill-color);\n",
              "    height: 32px;\n",
              "    padding: 0;\n",
              "    width: 32px;\n",
              "  }\n",
              "\n",
              "  .colab-df-quickchart:hover {\n",
              "    background-color: var(--hover-bg-color);\n",
              "    box-shadow: 0 1px 2px rgba(60, 64, 67, 0.3), 0 1px 3px 1px rgba(60, 64, 67, 0.15);\n",
              "    fill: var(--button-hover-fill-color);\n",
              "  }\n",
              "\n",
              "  .colab-df-quickchart-complete:disabled,\n",
              "  .colab-df-quickchart-complete:disabled:hover {\n",
              "    background-color: var(--disabled-bg-color);\n",
              "    fill: var(--disabled-fill-color);\n",
              "    box-shadow: none;\n",
              "  }\n",
              "\n",
              "  .colab-df-spinner {\n",
              "    border: 2px solid var(--fill-color);\n",
              "    border-color: transparent;\n",
              "    border-bottom-color: var(--fill-color);\n",
              "    animation:\n",
              "      spin 1s steps(1) infinite;\n",
              "  }\n",
              "\n",
              "  @keyframes spin {\n",
              "    0% {\n",
              "      border-color: transparent;\n",
              "      border-bottom-color: var(--fill-color);\n",
              "      border-left-color: var(--fill-color);\n",
              "    }\n",
              "    20% {\n",
              "      border-color: transparent;\n",
              "      border-left-color: var(--fill-color);\n",
              "      border-top-color: var(--fill-color);\n",
              "    }\n",
              "    30% {\n",
              "      border-color: transparent;\n",
              "      border-left-color: var(--fill-color);\n",
              "      border-top-color: var(--fill-color);\n",
              "      border-right-color: var(--fill-color);\n",
              "    }\n",
              "    40% {\n",
              "      border-color: transparent;\n",
              "      border-right-color: var(--fill-color);\n",
              "      border-top-color: var(--fill-color);\n",
              "    }\n",
              "    60% {\n",
              "      border-color: transparent;\n",
              "      border-right-color: var(--fill-color);\n",
              "    }\n",
              "    80% {\n",
              "      border-color: transparent;\n",
              "      border-right-color: var(--fill-color);\n",
              "      border-bottom-color: var(--fill-color);\n",
              "    }\n",
              "    90% {\n",
              "      border-color: transparent;\n",
              "      border-bottom-color: var(--fill-color);\n",
              "    }\n",
              "  }\n",
              "</style>\n",
              "\n",
              "  <script>\n",
              "    async function quickchart(key) {\n",
              "      const quickchartButtonEl =\n",
              "        document.querySelector('#' + key + ' button');\n",
              "      quickchartButtonEl.disabled = true;  // To prevent multiple clicks.\n",
              "      quickchartButtonEl.classList.add('colab-df-spinner');\n",
              "      try {\n",
              "        const charts = await google.colab.kernel.invokeFunction(\n",
              "            'suggestCharts', [key], {});\n",
              "      } catch (error) {\n",
              "        console.error('Error during call to suggestCharts:', error);\n",
              "      }\n",
              "      quickchartButtonEl.classList.remove('colab-df-spinner');\n",
              "      quickchartButtonEl.classList.add('colab-df-quickchart-complete');\n",
              "    }\n",
              "    (() => {\n",
              "      let quickchartButtonEl =\n",
              "        document.querySelector('#df-1300741a-c7ea-418e-85db-8175124fa107 button');\n",
              "      quickchartButtonEl.style.display =\n",
              "        google.colab.kernel.accessAllowed ? 'block' : 'none';\n",
              "    })();\n",
              "  </script>\n",
              "</div>\n",
              "    </div>\n",
              "  </div>\n"
            ]
          },
          "metadata": {},
          "execution_count": 68
        }
      ]
    },
    {
      "cell_type": "code",
      "source": [
        "# f. Number of units sold for each Film_title / Style\n",
        "\n",
        "df4 = df.groupby(['Style', 'Film_Title']).size().reset_index()\n",
        "df5 = df.groupby(['Style', 'Film_Title'])['Price'].count()\n",
        "print(df4)\n",
        "df5"
      ],
      "metadata": {
        "id": "KftgiJY9_G_d",
        "outputId": "8733f4e5-b8b9-4968-9b74-c00e241c021b",
        "colab": {
          "base_uri": "https://localhost:8080/"
        }
      },
      "execution_count": 27,
      "outputs": [
        {
          "output_type": "stream",
          "name": "stdout",
          "text": [
            "        Style                                         Film_Title   0\n",
            "0   Adventure                                         Hard Rider   9\n",
            "1   Adventure                                     LighteningBall   7\n",
            "2   Adventure                                     The Fourth Man  10\n",
            "3   Adventure                                        The IP File  11\n",
            "4   Adventure                                     The Nine Rules  10\n",
            "..        ...                                                ...  ..\n",
            "56    Western                                        The Finders   3\n",
            "57    Western  The Nice the not so nice and the visually chal...   5\n",
            "58    Western                                    The average six   4\n",
            "59    Western                                         TheatreBus  17\n",
            "60    Western                                          True Salt   3\n",
            "\n",
            "[61 rows x 3 columns]\n"
          ]
        },
        {
          "output_type": "execute_result",
          "data": {
            "text/plain": [
              "Style      Film_Title                                          \n",
              "Adventure  Hard Rider                                               9\n",
              "           LighteningBall                                           7\n",
              "           The Fourth Man                                          10\n",
              "           The IP File                                             11\n",
              "           The Nine Rules                                          10\n",
              "                                                                   ..\n",
              "Western    The Finders                                              3\n",
              "           The Nice the not so nice and the visually challenged     5\n",
              "           The average six                                          4\n",
              "           TheatreBus                                              17\n",
              "           True Salt                                                3\n",
              "Name: Price, Length: 61, dtype: int64"
            ]
          },
          "metadata": {},
          "execution_count": 27
        }
      ]
    },
    {
      "cell_type": "code",
      "source": [],
      "metadata": {
        "id": "J0JXGqXKwmW9"
      },
      "execution_count": null,
      "outputs": []
    }
  ]
}