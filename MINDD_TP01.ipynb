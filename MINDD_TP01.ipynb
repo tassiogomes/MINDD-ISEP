{
  "nbformat": 4,
  "nbformat_minor": 0,
  "metadata": {
    "colab": {
      "provenance": [],
      "authorship_tag": "ABX9TyOJRJa6PXZlzi7iFNEbOgn9",
      "include_colab_link": true
    },
    "kernelspec": {
      "name": "python3",
      "display_name": "Python 3"
    },
    "language_info": {
      "name": "python"
    }
  },
  "cells": [
    {
      "cell_type": "markdown",
      "metadata": {
        "id": "view-in-github",
        "colab_type": "text"
      },
      "source": [
        "<a href=\"https://colab.research.google.com/github/tassiogomes/MINDD-ISEP/blob/main/MINDD_TP01.ipynb\" target=\"_parent\"><img src=\"https://colab.research.google.com/assets/colab-badge.svg\" alt=\"Open In Colab\"/></a>"
      ]
    },
    {
      "cell_type": "markdown",
      "source": [
        "#MINDD - PL01\n",
        "\n",
        "A panda series is a one-dimensional array. Saves any type of data supported in Python and uses labels to index\n",
        "the values. The labels form the index an can be strings or integers.\n",
        "The series are the panda's main data structure for storing one-dimensional data."
      ],
      "metadata": {
        "id": "qGqxw8RgtMWD"
      }
    },
    {
      "cell_type": "markdown",
      "source": [
        "1. A market study was conducted to determine the typical cost of a product in several Portuguese cities. The results were as follows:\n"
      ],
      "metadata": {
        "id": "g7vN1k5WuARA"
      }
    },
    {
      "cell_type": "code",
      "execution_count": 1,
      "metadata": {
        "colab": {
          "base_uri": "https://localhost:8080/"
        },
        "id": "xDoI3AVmsEgK",
        "outputId": "eddca97d-b587-41d9-d659-edc4861174cc"
      },
      "outputs": [
        {
          "output_type": "stream",
          "name": "stdout",
          "text": [
            "{'Cidade': ['Bragança', 'Braga', 'Porto', 'Aveiro', 'Coimbra', 'Leiria', 'Lisboa', 'Beja', 'Évora', 'Faro'], 'Temperatura (°C)': [10.3, 10.6, 11.5, 12.3, 9.9, 9.3, 12.1, 10.9, 11.4, 9.1]}\n"
          ]
        }
      ],
      "source": [
        "import pandas as pd\n",
        "\n",
        "data = {\n",
        "    'Cidade': ['Bragança', 'Braga', 'Porto', 'Aveiro', 'Coimbra', 'Leiria', 'Lisboa', 'Beja', 'Évora', 'Faro'],\n",
        "    'Temperatura (°C)': [10.3, 10.6, 11.5, 12.3, 9.9, 9.3, 12.1, 10.9, 11.4, 9.1]\n",
        "}\n",
        "\n",
        "print(data)"
      ]
    },
    {
      "cell_type": "code",
      "source": [
        "import pandas as pd\n",
        "\n",
        "data = {\n",
        "    'Cidade': ['Bragança', 'Braga', 'Porto', 'Aveiro', 'Coimbra', 'Leiria', 'Lisboa', 'Beja', 'Évora', 'Faro'],\n",
        "    'Preço': [10.3, 10.6, 11.5, 12.3, 9.9, 9.3, 12.1, 10.9, 11.4, 9.1]\n",
        "}\n",
        "\n",
        "prcSerie = pd.Series(data['Preço'], index=data['Cidade'], name='Preço')\n",
        "\n",
        "print(prcSerie)\n"
      ],
      "metadata": {
        "colab": {
          "base_uri": "https://localhost:8080/"
        },
        "id": "iwcwn9hkt1ic",
        "outputId": "dd828f34-b307-465b-f860-d51bb14f9aee"
      },
      "execution_count": 2,
      "outputs": [
        {
          "output_type": "stream",
          "name": "stdout",
          "text": [
            "Bragança    10.3\n",
            "Braga       10.6\n",
            "Porto       11.5\n",
            "Aveiro      12.3\n",
            "Coimbra      9.9\n",
            "Leiria       9.3\n",
            "Lisboa      12.1\n",
            "Beja        10.9\n",
            "Évora       11.4\n",
            "Faro         9.1\n",
            "Name: Preço, dtype: float64\n"
          ]
        }
      ]
    },
    {
      "cell_type": "markdown",
      "source": [
        "### TP01_B"
      ],
      "metadata": {
        "id": "3k6E7l8ZVga6"
      }
    },
    {
      "cell_type": "code",
      "source": [
        "import pandas as pd\n",
        "\n",
        "data = {\n",
        "    'Cidade': ['Bragança', 'Braga', 'Porto', 'Aveiro', 'Coimbra', 'Leiria', 'Lisboa', 'Beja', 'Évora', 'Faro'],\n",
        "    'Preço': [10.3, 10.6, 11.5, 12.3, 9.9, 9.3, 12.1, 10.9, 11.4, 9.1]\n",
        "}\n",
        "\n",
        "prcSerie = pd.Series(data['Preço'], index=data['Cidade'], name='Preço')\n",
        "\n",
        "# Ordenar a série em ordem decrescente com base nos valores\n",
        "prcSerie_sorted = prcSerie.sort_values(ascending=False)\n",
        "\n",
        "# Para reverter a ordem dos índices para corresponder aos valores ordenados\n",
        "#prcSerie_sorted = prcSerie_sorted.sort_index(ascending=False)\n",
        "\n",
        "print(\"Série em ordem decrescente:\")\n",
        "print(prcSerie_sorted)\n"
      ],
      "metadata": {
        "colab": {
          "base_uri": "https://localhost:8080/"
        },
        "id": "XhSFuYupvi63",
        "outputId": "1db43c57-3d08-4e93-edb7-58e31ee8b49d"
      },
      "execution_count": 7,
      "outputs": [
        {
          "output_type": "stream",
          "name": "stdout",
          "text": [
            "Série em ordem decrescente:\n",
            "Aveiro      12.3\n",
            "Lisboa      12.1\n",
            "Porto       11.5\n",
            "Évora       11.4\n",
            "Beja        10.9\n",
            "Braga       10.6\n",
            "Bragança    10.3\n",
            "Coimbra      9.9\n",
            "Leiria       9.3\n",
            "Faro         9.1\n",
            "Name: Preço, dtype: float64\n"
          ]
        }
      ]
    },
    {
      "cell_type": "markdown",
      "source": [
        "## TP01_C\n",
        "c) View prices for the first three cities: Bragança, Braga, and Porto."
      ],
      "metadata": {
        "id": "uOIPE9_nV0A6"
      }
    },
    {
      "cell_type": "code",
      "source": [
        "first_three_cities = prcSerie[['Bragança', 'Braga', 'Porto']]\n",
        "first_three_cities_loc = prcSerie.loc[['Bragança', 'Braga', 'Porto']]\n",
        "print(first_three_cities)\n",
        "print(\"-------com loc------\")\n",
        "print(first_three_cities_loc)\n"
      ],
      "metadata": {
        "colab": {
          "base_uri": "https://localhost:8080/"
        },
        "id": "RAk2-zZtFW9j",
        "outputId": "9fc1b5ce-f73f-4ceb-dcd4-c833d47947c4"
      },
      "execution_count": 11,
      "outputs": [
        {
          "output_type": "stream",
          "name": "stdout",
          "text": [
            "Bragança    10.3\n",
            "Braga       10.6\n",
            "Porto       11.5\n",
            "Name: Preço, dtype: float64\n",
            "-------com loc------\n",
            "Bragança    10.3\n",
            "Braga       10.6\n",
            "Porto       11.5\n",
            "Name: Preço, dtype: float64\n"
          ]
        }
      ]
    },
    {
      "cell_type": "markdown",
      "source": [
        "## TP01_D\n",
        "d) View prices for the last three cities: Beja, Évora, and Faro."
      ],
      "metadata": {
        "id": "IETrnhPifv1T"
      }
    },
    {
      "cell_type": "code",
      "source": [
        "last_three_cities = prcSerie[[\"Beja\", \"Évora\", \"Faro\"]]\n",
        "last_three_cities_iloc = prcSerie.iloc[-3:]\n",
        "print(last_three_cities)\n",
        "print(\"----------- iloc------------\")\n",
        "print(last_three_cities_iloc)"
      ],
      "metadata": {
        "colab": {
          "base_uri": "https://localhost:8080/"
        },
        "id": "QuE-roYcWUij",
        "outputId": "ddb31c10-b6d3-4281-824a-dfe8cbf40b56"
      },
      "execution_count": 14,
      "outputs": [
        {
          "output_type": "stream",
          "name": "stdout",
          "text": [
            "Beja     10.9\n",
            "Évora    11.4\n",
            "Faro      9.1\n",
            "Name: Preço, dtype: float64\n",
            "----------- iloc------------\n",
            "Beja     10.9\n",
            "Évora    11.4\n",
            "Faro      9.1\n",
            "Name: Preço, dtype: float64\n"
          ]
        }
      ]
    },
    {
      "cell_type": "markdown",
      "source": [
        "## TP01_E\n",
        "e) View prices in the cities: Aveiro, Coimbra, Leiria, and Lisbon."
      ],
      "metadata": {
        "id": "R8fI85Mfb-VO"
      }
    },
    {
      "cell_type": "code",
      "source": [
        "cities_columns = prcSerie[[\"Aveiro\",\"Coimbra\", \"Leiria\",\"Lisboa\"]]\n",
        "cities_loc = prcSerie.loc[[\"Aveiro\",\"Coimbra\", \"Leiria\",\"Lisboa\"]]\n",
        "cities_iloc = prcSerie.iloc[3:7]\n",
        "print(cities_columns)\n",
        "print(\"----------- loc------------\")\n",
        "print(cities_loc)\n",
        "print(\"----------- iloc------------\")\n",
        "print(cities_iloc)"
      ],
      "metadata": {
        "colab": {
          "base_uri": "https://localhost:8080/"
        },
        "id": "eFEKYe-Dc7qo",
        "outputId": "f9357451-7e14-45df-d69f-e52af9a54c52"
      },
      "execution_count": 19,
      "outputs": [
        {
          "output_type": "stream",
          "name": "stdout",
          "text": [
            "Aveiro     12.3\n",
            "Coimbra     9.9\n",
            "Leiria      9.3\n",
            "Lisboa     12.1\n",
            "Name: Preço, dtype: float64\n",
            "----------- loc------------\n",
            "Aveiro     12.3\n",
            "Coimbra     9.9\n",
            "Leiria      9.3\n",
            "Lisboa     12.1\n",
            "Name: Preço, dtype: float64\n",
            "----------- iloc------------\n",
            "Aveiro     12.3\n",
            "Coimbra     9.9\n",
            "Leiria      9.3\n",
            "Lisboa     12.1\n",
            "Name: Preço, dtype: float64\n"
          ]
        }
      ]
    },
    {
      "cell_type": "markdown",
      "source": [
        "## TP01_F\n",
        "f) Which cities have lower than average prices?"
      ],
      "metadata": {
        "id": "Eyr74EWf6rP6"
      }
    },
    {
      "cell_type": "code",
      "source": [
        "# Calculate the average price\n",
        "average_price = prcSerie.mean()\n",
        "\n",
        "# Find cities with prices lower than the average\n",
        "lower_than_average = prcSerie[prcSerie < average_price]\n",
        "\n",
        "print(\"Cities with prices lower than the average:\")\n",
        "print(lower_than_average)"
      ],
      "metadata": {
        "colab": {
          "base_uri": "https://localhost:8080/"
        },
        "id": "6UxPKKxdgPP4",
        "outputId": "42f3aeda-89a4-4598-cc67-88a408678e13"
      },
      "execution_count": 5,
      "outputs": [
        {
          "output_type": "stream",
          "name": "stdout",
          "text": [
            "Cities with prices lower than the average:\n",
            "Bragança    10.3\n",
            "Braga       10.6\n",
            "Coimbra      9.9\n",
            "Leiria       9.3\n",
            "Faro         9.1\n",
            "Name: Preço, dtype: float64\n"
          ]
        }
      ]
    },
    {
      "cell_type": "code",
      "source": [],
      "metadata": {
        "id": "-TIqTrE15wq-"
      },
      "execution_count": null,
      "outputs": []
    }
  ]
}