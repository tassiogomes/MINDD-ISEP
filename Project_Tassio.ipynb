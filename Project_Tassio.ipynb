{
  "cells": [
    {
      "cell_type": "markdown",
      "metadata": {
        "id": "view-in-github",
        "colab_type": "text"
      },
      "source": [
        "<a href=\"https://colab.research.google.com/github/tassiogomes/MINDD-ISEP/blob/main/Project_Tassio.ipynb\" target=\"_parent\"><img src=\"https://colab.research.google.com/assets/colab-badge.svg\" alt=\"Open In Colab\"/></a>"
      ]
    },
    {
      "cell_type": "markdown",
      "metadata": {
        "id": "_rDjqjZYOUWw"
      },
      "source": [
        "# Imports"
      ]
    },
    {
      "cell_type": "markdown",
      "source": [
        "###### Installs"
      ],
      "metadata": {
        "id": "ECa3K69t1AIy"
      }
    },
    {
      "cell_type": "code",
      "source": [
        "!pip install sweetviz\n"
      ],
      "metadata": {
        "colab": {
          "base_uri": "https://localhost:8080/"
        },
        "id": "4BbMwvBELL6m",
        "outputId": "ef2157c8-4bb0-4eaa-b2c3-aa30c4e5f633"
      },
      "execution_count": null,
      "outputs": [
        {
          "output_type": "stream",
          "name": "stdout",
          "text": [
            "Requirement already satisfied: sweetviz in /usr/local/lib/python3.10/dist-packages (2.3.0)\n",
            "Requirement already satisfied: pandas!=1.0.0,!=1.0.1,!=1.0.2,>=0.25.3 in /usr/local/lib/python3.10/dist-packages (from sweetviz) (1.5.3)\n",
            "Requirement already satisfied: numpy>=1.16.0 in /usr/local/lib/python3.10/dist-packages (from sweetviz) (1.23.5)\n",
            "Requirement already satisfied: matplotlib>=3.1.3 in /usr/local/lib/python3.10/dist-packages (from sweetviz) (3.7.1)\n",
            "Requirement already satisfied: tqdm>=4.43.0 in /usr/local/lib/python3.10/dist-packages (from sweetviz) (4.66.1)\n",
            "Requirement already satisfied: scipy>=1.3.2 in /usr/local/lib/python3.10/dist-packages (from sweetviz) (1.11.3)\n",
            "Requirement already satisfied: jinja2>=2.11.1 in /usr/local/lib/python3.10/dist-packages (from sweetviz) (3.1.2)\n",
            "Requirement already satisfied: importlib-resources>=1.2.0 in /usr/local/lib/python3.10/dist-packages (from sweetviz) (6.1.1)\n",
            "Requirement already satisfied: MarkupSafe>=2.0 in /usr/local/lib/python3.10/dist-packages (from jinja2>=2.11.1->sweetviz) (2.1.3)\n",
            "Requirement already satisfied: contourpy>=1.0.1 in /usr/local/lib/python3.10/dist-packages (from matplotlib>=3.1.3->sweetviz) (1.2.0)\n",
            "Requirement already satisfied: cycler>=0.10 in /usr/local/lib/python3.10/dist-packages (from matplotlib>=3.1.3->sweetviz) (0.12.1)\n",
            "Requirement already satisfied: fonttools>=4.22.0 in /usr/local/lib/python3.10/dist-packages (from matplotlib>=3.1.3->sweetviz) (4.44.3)\n",
            "Requirement already satisfied: kiwisolver>=1.0.1 in /usr/local/lib/python3.10/dist-packages (from matplotlib>=3.1.3->sweetviz) (1.4.5)\n",
            "Requirement already satisfied: packaging>=20.0 in /usr/local/lib/python3.10/dist-packages (from matplotlib>=3.1.3->sweetviz) (23.2)\n",
            "Requirement already satisfied: pillow>=6.2.0 in /usr/local/lib/python3.10/dist-packages (from matplotlib>=3.1.3->sweetviz) (9.4.0)\n",
            "Requirement already satisfied: pyparsing>=2.3.1 in /usr/local/lib/python3.10/dist-packages (from matplotlib>=3.1.3->sweetviz) (3.1.1)\n",
            "Requirement already satisfied: python-dateutil>=2.7 in /usr/local/lib/python3.10/dist-packages (from matplotlib>=3.1.3->sweetviz) (2.8.2)\n",
            "Requirement already satisfied: pytz>=2020.1 in /usr/local/lib/python3.10/dist-packages (from pandas!=1.0.0,!=1.0.1,!=1.0.2,>=0.25.3->sweetviz) (2023.3.post1)\n",
            "Requirement already satisfied: six>=1.5 in /usr/local/lib/python3.10/dist-packages (from python-dateutil>=2.7->matplotlib>=3.1.3->sweetviz) (1.16.0)\n"
          ]
        }
      ]
    },
    {
      "cell_type": "code",
      "execution_count": null,
      "metadata": {
        "id": "vmyagyA0_D23"
      },
      "outputs": [],
      "source": [
        "#Import Python Libraries\n",
        "import numpy as np\n",
        "import scipy as sp\n",
        "import pandas as pd\n",
        "import matplotlib.pyplot as plt\n",
        "import seaborn as sns\n",
        "from google.colab import drive\n",
        "import sweetviz as sv\n",
        "import IPython"
      ]
    },
    {
      "cell_type": "markdown",
      "metadata": {
        "id": "SwVQZc96_Ajb"
      },
      "source": [
        "#Data exploration"
      ]
    },
    {
      "cell_type": "markdown",
      "source": [
        "#### Data Dictionary"
      ],
      "metadata": {
        "id": "_WPUkEHFHrXO"
      }
    },
    {
      "cell_type": "markdown",
      "source": [
        "|Column name| Description|\n",
        "|----|---|\n",
        "|ID| unique ID of representative|\n",
        "|Loan Amount| loan amount applied|\n",
        "|Funded Amount|loan amount funded|\n",
        "|Funded Amount Investor| loan amount approved by the investors|\n",
        "|Term| term of loan (in months)|\n",
        "|Batch Enrolled| batch numbers to representatives|\n",
        "|Interest Rate| interest rate (%) on loan|\n",
        "|Grade| grade by the bank|\n",
        "|Sub Grade| sub-grade by the bank|\n",
        "|Employment Duration| duration|\n",
        "|Home Ownership| Owner ship of home|\n",
        "|Verification Status| Income verification by the bank|\n",
        "|Payment Plan| if any payment plan has started against loan|\n",
        "|Loan Title| loan title provided|\n",
        "|Debit to Income| ratio of representative's total monthly debt repayment divided by self reported monthly income excluding mortgage|\n",
        "|Delinquency - two years| number of 30+ days delinquency in past 2 years|\n",
        "|Inquires - six months| total number of inquiries in last 6 months|\n",
        "|Open Account| number of open credit line in representative's credit line|\n",
        "|Public Record| number of derogatory public records|\n",
        "|Revolving Balance| total credit revolving balance|\n",
        "|Revolving Utilities| amount of credit a representative is using relative to revolving_balance|\n",
        "|Total Accounts| total number of credit lines available in representatives credit line|\n",
        "|Initial List Status| unique listing status of the loan - W(Waiting), F(Forwarded)|\n",
        "|Total Received Interest| total interest received till date|\n",
        "|Total Received Late Fee| total late fee received till date|\n",
        "|Recoveries| post charge off gross recovery|\n",
        "|Collection Recovery Fee| post charge off collection fee|\n",
        "|Collection 12 months Medical| total collections in last 12 months excluding medical collections|\n",
        "|Application Type| indicates when the representative is an individual or joint|\n",
        "|Last week Pay| indicates how long (in weeks) a representative has paid EMI after batch enrolled|\n",
        "|Accounts Delinquent| number of accounts on which the representative is delinquent|\n",
        "|Total Collection Amount| total collection amount ever owed|\n",
        "|Total Current Balance| total current balance from all accounts|\n",
        "|Total Revolving Credit Limit| total revolving credit limit|\n",
        "|Loan Status| 1 = Defaulter, 0 = Non Defaulters|"
      ],
      "metadata": {
        "id": "HPLHLR3PHx-l"
      }
    },
    {
      "cell_type": "markdown",
      "metadata": {
        "id": "PC3t-djtMN1n"
      },
      "source": [
        "#### Tabular exploration"
      ]
    },
    {
      "cell_type": "code",
      "execution_count": null,
      "metadata": {
        "colab": {
          "base_uri": "https://localhost:8080/"
        },
        "id": "H4DuErdH-m6u",
        "outputId": "d45f6d05-d6dc-4982-86a6-5cf81401f496"
      },
      "outputs": [
        {
          "output_type": "stream",
          "name": "stdout",
          "text": [
            "Drive already mounted at /content/drive; to attempt to forcibly remount, call drive.mount(\"/content/drive\", force_remount=True).\n"
          ]
        }
      ],
      "source": [
        "#Cargar datos\n",
        "drive.mount('/content/drive')\n",
        "df = pd.read_csv('drive/My Drive/MINDD/train.csv')\n",
        "#df = pd.read_csv(\"/content/drive/MyDrive/train.csv\")"
      ]
    },
    {
      "cell_type": "code",
      "execution_count": null,
      "metadata": {
        "id": "Ptqz0PBggfss"
      },
      "outputs": [],
      "source": [
        "#drive.mount('/content/drive')\n",
        "#df = pd.read_csv(\"/content/drive/MyDrive/train.csv\")"
      ]
    },
    {
      "cell_type": "code",
      "execution_count": null,
      "metadata": {
        "colab": {
          "base_uri": "https://localhost:8080/"
        },
        "id": "JaBxtNEg_-cb",
        "outputId": "ddfc141a-5bfa-4111-d8c9-9b05bf770822"
      },
      "outputs": [
        {
          "output_type": "execute_result",
          "data": {
            "text/plain": [
              "Index(['ID', 'Loan Amount', 'Funded Amount', 'Funded Amount Investor', 'Term',\n",
              "       'Batch Enrolled', 'Interest Rate', 'Grade', 'Sub Grade',\n",
              "       'Employment Duration', 'Home Ownership', 'Verification Status',\n",
              "       'Payment Plan', 'Loan Title', 'Debit to Income',\n",
              "       'Delinquency - two years', 'Inquires - six months', 'Open Account',\n",
              "       'Public Record', 'Revolving Balance', 'Revolving Utilities',\n",
              "       'Total Accounts', 'Initial List Status', 'Total Received Interest',\n",
              "       'Total Received Late Fee', 'Recoveries', 'Collection Recovery Fee',\n",
              "       'Collection 12 months Medical', 'Application Type', 'Last week Pay',\n",
              "       'Accounts Delinquent', 'Total Collection Amount',\n",
              "       'Total Current Balance', 'Total Revolving Credit Limit', 'Loan Status'],\n",
              "      dtype='object')"
            ]
          },
          "metadata": {},
          "execution_count": 128
        }
      ],
      "source": [
        "df.columns"
      ]
    },
    {
      "cell_type": "code",
      "execution_count": null,
      "metadata": {
        "colab": {
          "base_uri": "https://localhost:8080/"
        },
        "id": "nIYv_owtAC1b",
        "outputId": "34eb2c25-946c-4647-a976-48fef8f9174d"
      },
      "outputs": [
        {
          "output_type": "stream",
          "name": "stdout",
          "text": [
            "<class 'pandas.core.frame.DataFrame'>\n",
            "RangeIndex: 67463 entries, 0 to 67462\n",
            "Data columns (total 35 columns):\n",
            " #   Column                        Non-Null Count  Dtype  \n",
            "---  ------                        --------------  -----  \n",
            " 0   ID                            67463 non-null  int64  \n",
            " 1   Loan Amount                   67463 non-null  int64  \n",
            " 2   Funded Amount                 67463 non-null  int64  \n",
            " 3   Funded Amount Investor        67463 non-null  float64\n",
            " 4   Term                          67463 non-null  int64  \n",
            " 5   Batch Enrolled                67463 non-null  object \n",
            " 6   Interest Rate                 67463 non-null  float64\n",
            " 7   Grade                         67463 non-null  object \n",
            " 8   Sub Grade                     67463 non-null  object \n",
            " 9   Employment Duration           67463 non-null  object \n",
            " 10  Home Ownership                67463 non-null  float64\n",
            " 11  Verification Status           67463 non-null  object \n",
            " 12  Payment Plan                  67463 non-null  object \n",
            " 13  Loan Title                    67463 non-null  object \n",
            " 14  Debit to Income               67463 non-null  float64\n",
            " 15  Delinquency - two years       67463 non-null  int64  \n",
            " 16  Inquires - six months         67463 non-null  int64  \n",
            " 17  Open Account                  67463 non-null  int64  \n",
            " 18  Public Record                 67463 non-null  int64  \n",
            " 19  Revolving Balance             67463 non-null  int64  \n",
            " 20  Revolving Utilities           67463 non-null  float64\n",
            " 21  Total Accounts                67463 non-null  int64  \n",
            " 22  Initial List Status           67463 non-null  object \n",
            " 23  Total Received Interest       67463 non-null  float64\n",
            " 24  Total Received Late Fee       67463 non-null  float64\n",
            " 25  Recoveries                    67463 non-null  float64\n",
            " 26  Collection Recovery Fee       67463 non-null  float64\n",
            " 27  Collection 12 months Medical  67463 non-null  int64  \n",
            " 28  Application Type              67463 non-null  object \n",
            " 29  Last week Pay                 67463 non-null  int64  \n",
            " 30  Accounts Delinquent           67463 non-null  int64  \n",
            " 31  Total Collection Amount       67463 non-null  int64  \n",
            " 32  Total Current Balance         67463 non-null  int64  \n",
            " 33  Total Revolving Credit Limit  67463 non-null  int64  \n",
            " 34  Loan Status                   67463 non-null  int64  \n",
            "dtypes: float64(9), int64(17), object(9)\n",
            "memory usage: 18.0+ MB\n"
          ]
        }
      ],
      "source": [
        "df.info()"
      ]
    },
    {
      "cell_type": "markdown",
      "metadata": {
        "id": "d5jM4VanBDE4"
      },
      "source": [
        "Vemos que no tiene valores nulos en ninguna de las columnas"
      ]
    },
    {
      "cell_type": "code",
      "execution_count": null,
      "metadata": {
        "colab": {
          "base_uri": "https://localhost:8080/",
          "height": 496
        },
        "id": "9TDmCmuGA-Vh",
        "outputId": "123f7ffb-4b02-4d2c-9139-eb5d27356d53"
      },
      "outputs": [
        {
          "output_type": "execute_result",
          "data": {
            "text/plain": [
              "             ID  Loan Amount  Funded Amount  Funded Amount Investor  Term  \\\n",
              "0      65087372        10000          32236             12329.36286    59   \n",
              "1       1450153         3609          11940             12191.99692    59   \n",
              "2       1969101        28276           9311             21603.22455    59   \n",
              "3       6651430        11170           6954             17877.15585    59   \n",
              "4      14354669        16890          13226             13539.92667    59   \n",
              "...         ...          ...            ...                     ...   ...   \n",
              "67458  16164945        13601           6848             13175.28583    59   \n",
              "67459  35182714         8323          11046             15637.46301    59   \n",
              "67460  16435904        15897          32921             12329.45775    59   \n",
              "67461   5300325        16567           4975             21353.68465    59   \n",
              "67462  65443173        15353          29875             14207.44860    59   \n",
              "\n",
              "      Batch Enrolled  Interest Rate Grade Sub Grade Employment Duration  ...  \\\n",
              "0         BAT2522922      11.135007     B        C4            MORTGAGE  ...   \n",
              "1         BAT1586599      12.237563     C        D3                RENT  ...   \n",
              "2         BAT2136391      12.545884     F        D4            MORTGAGE  ...   \n",
              "3         BAT2428731      16.731201     C        C3            MORTGAGE  ...   \n",
              "4         BAT5341619      15.008300     C        D4            MORTGAGE  ...   \n",
              "...              ...            ...   ...       ...                 ...  ...   \n",
              "67458     BAT3193689       9.408858     C        A4            MORTGAGE  ...   \n",
              "67459     BAT1780517       9.972104     C        B3                RENT  ...   \n",
              "67460     BAT1761981      19.650943     A        F3            MORTGAGE  ...   \n",
              "67461     BAT2333412      13.169095     D        E3                 OWN  ...   \n",
              "67462     BAT1930365      16.034631     B        D1            MORTGAGE  ...   \n",
              "\n",
              "        Recoveries Collection Recovery Fee Collection 12 months Medical  \\\n",
              "0         2.498291                0.793724                            0   \n",
              "1         2.377215                0.974821                            0   \n",
              "2         4.316277                1.020075                            0   \n",
              "3         0.107020                0.749971                            0   \n",
              "4      1294.818751                0.368953                            0   \n",
              "...            ...                     ...                          ...   \n",
              "67458   564.614852                0.865230                            0   \n",
              "67459     2.015494                1.403368                            0   \n",
              "67460     5.673092                1.607093                            0   \n",
              "67461     1.157454                0.207608                            0   \n",
              "67462     1.856480                0.366386                            0   \n",
              "\n",
              "      Application Type  Last week Pay  Accounts Delinquent  \\\n",
              "0           INDIVIDUAL             49                    0   \n",
              "1           INDIVIDUAL            109                    0   \n",
              "2           INDIVIDUAL             66                    0   \n",
              "3           INDIVIDUAL             39                    0   \n",
              "4           INDIVIDUAL             18                    0   \n",
              "...                ...            ...                  ...   \n",
              "67458       INDIVIDUAL             69                    0   \n",
              "67459       INDIVIDUAL             14                    0   \n",
              "67460       INDIVIDUAL            137                    0   \n",
              "67461       INDIVIDUAL             73                    0   \n",
              "67462       INDIVIDUAL             54                    0   \n",
              "\n",
              "       Total Collection Amount  Total Current Balance  \\\n",
              "0                           31                 311301   \n",
              "1                           53                 182610   \n",
              "2                           34                  89801   \n",
              "3                           40                   9189   \n",
              "4                          430                 126029   \n",
              "...                        ...                    ...   \n",
              "67458                       48                 181775   \n",
              "67459                       37                  22692   \n",
              "67460                       17                 176857   \n",
              "67461                       61                 361339   \n",
              "67462                       47                 196960   \n",
              "\n",
              "       Total Revolving Credit Limit  Loan Status  \n",
              "0                              6619            0  \n",
              "1                             20885            0  \n",
              "2                             26155            0  \n",
              "3                             60214            0  \n",
              "4                             22579            0  \n",
              "...                             ...          ...  \n",
              "67458                         34301            1  \n",
              "67459                          8714            0  \n",
              "67460                         42330            0  \n",
              "67461                         39075            0  \n",
              "67462                         66060            0  \n",
              "\n",
              "[67463 rows x 35 columns]"
            ],
            "text/html": [
              "\n",
              "  <div id=\"df-daa68b1c-0247-4733-8b02-177ff1344869\" class=\"colab-df-container\">\n",
              "    <div>\n",
              "<style scoped>\n",
              "    .dataframe tbody tr th:only-of-type {\n",
              "        vertical-align: middle;\n",
              "    }\n",
              "\n",
              "    .dataframe tbody tr th {\n",
              "        vertical-align: top;\n",
              "    }\n",
              "\n",
              "    .dataframe thead th {\n",
              "        text-align: right;\n",
              "    }\n",
              "</style>\n",
              "<table border=\"1\" class=\"dataframe\">\n",
              "  <thead>\n",
              "    <tr style=\"text-align: right;\">\n",
              "      <th></th>\n",
              "      <th>ID</th>\n",
              "      <th>Loan Amount</th>\n",
              "      <th>Funded Amount</th>\n",
              "      <th>Funded Amount Investor</th>\n",
              "      <th>Term</th>\n",
              "      <th>Batch Enrolled</th>\n",
              "      <th>Interest Rate</th>\n",
              "      <th>Grade</th>\n",
              "      <th>Sub Grade</th>\n",
              "      <th>Employment Duration</th>\n",
              "      <th>...</th>\n",
              "      <th>Recoveries</th>\n",
              "      <th>Collection Recovery Fee</th>\n",
              "      <th>Collection 12 months Medical</th>\n",
              "      <th>Application Type</th>\n",
              "      <th>Last week Pay</th>\n",
              "      <th>Accounts Delinquent</th>\n",
              "      <th>Total Collection Amount</th>\n",
              "      <th>Total Current Balance</th>\n",
              "      <th>Total Revolving Credit Limit</th>\n",
              "      <th>Loan Status</th>\n",
              "    </tr>\n",
              "  </thead>\n",
              "  <tbody>\n",
              "    <tr>\n",
              "      <th>0</th>\n",
              "      <td>65087372</td>\n",
              "      <td>10000</td>\n",
              "      <td>32236</td>\n",
              "      <td>12329.36286</td>\n",
              "      <td>59</td>\n",
              "      <td>BAT2522922</td>\n",
              "      <td>11.135007</td>\n",
              "      <td>B</td>\n",
              "      <td>C4</td>\n",
              "      <td>MORTGAGE</td>\n",
              "      <td>...</td>\n",
              "      <td>2.498291</td>\n",
              "      <td>0.793724</td>\n",
              "      <td>0</td>\n",
              "      <td>INDIVIDUAL</td>\n",
              "      <td>49</td>\n",
              "      <td>0</td>\n",
              "      <td>31</td>\n",
              "      <td>311301</td>\n",
              "      <td>6619</td>\n",
              "      <td>0</td>\n",
              "    </tr>\n",
              "    <tr>\n",
              "      <th>1</th>\n",
              "      <td>1450153</td>\n",
              "      <td>3609</td>\n",
              "      <td>11940</td>\n",
              "      <td>12191.99692</td>\n",
              "      <td>59</td>\n",
              "      <td>BAT1586599</td>\n",
              "      <td>12.237563</td>\n",
              "      <td>C</td>\n",
              "      <td>D3</td>\n",
              "      <td>RENT</td>\n",
              "      <td>...</td>\n",
              "      <td>2.377215</td>\n",
              "      <td>0.974821</td>\n",
              "      <td>0</td>\n",
              "      <td>INDIVIDUAL</td>\n",
              "      <td>109</td>\n",
              "      <td>0</td>\n",
              "      <td>53</td>\n",
              "      <td>182610</td>\n",
              "      <td>20885</td>\n",
              "      <td>0</td>\n",
              "    </tr>\n",
              "    <tr>\n",
              "      <th>2</th>\n",
              "      <td>1969101</td>\n",
              "      <td>28276</td>\n",
              "      <td>9311</td>\n",
              "      <td>21603.22455</td>\n",
              "      <td>59</td>\n",
              "      <td>BAT2136391</td>\n",
              "      <td>12.545884</td>\n",
              "      <td>F</td>\n",
              "      <td>D4</td>\n",
              "      <td>MORTGAGE</td>\n",
              "      <td>...</td>\n",
              "      <td>4.316277</td>\n",
              "      <td>1.020075</td>\n",
              "      <td>0</td>\n",
              "      <td>INDIVIDUAL</td>\n",
              "      <td>66</td>\n",
              "      <td>0</td>\n",
              "      <td>34</td>\n",
              "      <td>89801</td>\n",
              "      <td>26155</td>\n",
              "      <td>0</td>\n",
              "    </tr>\n",
              "    <tr>\n",
              "      <th>3</th>\n",
              "      <td>6651430</td>\n",
              "      <td>11170</td>\n",
              "      <td>6954</td>\n",
              "      <td>17877.15585</td>\n",
              "      <td>59</td>\n",
              "      <td>BAT2428731</td>\n",
              "      <td>16.731201</td>\n",
              "      <td>C</td>\n",
              "      <td>C3</td>\n",
              "      <td>MORTGAGE</td>\n",
              "      <td>...</td>\n",
              "      <td>0.107020</td>\n",
              "      <td>0.749971</td>\n",
              "      <td>0</td>\n",
              "      <td>INDIVIDUAL</td>\n",
              "      <td>39</td>\n",
              "      <td>0</td>\n",
              "      <td>40</td>\n",
              "      <td>9189</td>\n",
              "      <td>60214</td>\n",
              "      <td>0</td>\n",
              "    </tr>\n",
              "    <tr>\n",
              "      <th>4</th>\n",
              "      <td>14354669</td>\n",
              "      <td>16890</td>\n",
              "      <td>13226</td>\n",
              "      <td>13539.92667</td>\n",
              "      <td>59</td>\n",
              "      <td>BAT5341619</td>\n",
              "      <td>15.008300</td>\n",
              "      <td>C</td>\n",
              "      <td>D4</td>\n",
              "      <td>MORTGAGE</td>\n",
              "      <td>...</td>\n",
              "      <td>1294.818751</td>\n",
              "      <td>0.368953</td>\n",
              "      <td>0</td>\n",
              "      <td>INDIVIDUAL</td>\n",
              "      <td>18</td>\n",
              "      <td>0</td>\n",
              "      <td>430</td>\n",
              "      <td>126029</td>\n",
              "      <td>22579</td>\n",
              "      <td>0</td>\n",
              "    </tr>\n",
              "    <tr>\n",
              "      <th>...</th>\n",
              "      <td>...</td>\n",
              "      <td>...</td>\n",
              "      <td>...</td>\n",
              "      <td>...</td>\n",
              "      <td>...</td>\n",
              "      <td>...</td>\n",
              "      <td>...</td>\n",
              "      <td>...</td>\n",
              "      <td>...</td>\n",
              "      <td>...</td>\n",
              "      <td>...</td>\n",
              "      <td>...</td>\n",
              "      <td>...</td>\n",
              "      <td>...</td>\n",
              "      <td>...</td>\n",
              "      <td>...</td>\n",
              "      <td>...</td>\n",
              "      <td>...</td>\n",
              "      <td>...</td>\n",
              "      <td>...</td>\n",
              "      <td>...</td>\n",
              "    </tr>\n",
              "    <tr>\n",
              "      <th>67458</th>\n",
              "      <td>16164945</td>\n",
              "      <td>13601</td>\n",
              "      <td>6848</td>\n",
              "      <td>13175.28583</td>\n",
              "      <td>59</td>\n",
              "      <td>BAT3193689</td>\n",
              "      <td>9.408858</td>\n",
              "      <td>C</td>\n",
              "      <td>A4</td>\n",
              "      <td>MORTGAGE</td>\n",
              "      <td>...</td>\n",
              "      <td>564.614852</td>\n",
              "      <td>0.865230</td>\n",
              "      <td>0</td>\n",
              "      <td>INDIVIDUAL</td>\n",
              "      <td>69</td>\n",
              "      <td>0</td>\n",
              "      <td>48</td>\n",
              "      <td>181775</td>\n",
              "      <td>34301</td>\n",
              "      <td>1</td>\n",
              "    </tr>\n",
              "    <tr>\n",
              "      <th>67459</th>\n",
              "      <td>35182714</td>\n",
              "      <td>8323</td>\n",
              "      <td>11046</td>\n",
              "      <td>15637.46301</td>\n",
              "      <td>59</td>\n",
              "      <td>BAT1780517</td>\n",
              "      <td>9.972104</td>\n",
              "      <td>C</td>\n",
              "      <td>B3</td>\n",
              "      <td>RENT</td>\n",
              "      <td>...</td>\n",
              "      <td>2.015494</td>\n",
              "      <td>1.403368</td>\n",
              "      <td>0</td>\n",
              "      <td>INDIVIDUAL</td>\n",
              "      <td>14</td>\n",
              "      <td>0</td>\n",
              "      <td>37</td>\n",
              "      <td>22692</td>\n",
              "      <td>8714</td>\n",
              "      <td>0</td>\n",
              "    </tr>\n",
              "    <tr>\n",
              "      <th>67460</th>\n",
              "      <td>16435904</td>\n",
              "      <td>15897</td>\n",
              "      <td>32921</td>\n",
              "      <td>12329.45775</td>\n",
              "      <td>59</td>\n",
              "      <td>BAT1761981</td>\n",
              "      <td>19.650943</td>\n",
              "      <td>A</td>\n",
              "      <td>F3</td>\n",
              "      <td>MORTGAGE</td>\n",
              "      <td>...</td>\n",
              "      <td>5.673092</td>\n",
              "      <td>1.607093</td>\n",
              "      <td>0</td>\n",
              "      <td>INDIVIDUAL</td>\n",
              "      <td>137</td>\n",
              "      <td>0</td>\n",
              "      <td>17</td>\n",
              "      <td>176857</td>\n",
              "      <td>42330</td>\n",
              "      <td>0</td>\n",
              "    </tr>\n",
              "    <tr>\n",
              "      <th>67461</th>\n",
              "      <td>5300325</td>\n",
              "      <td>16567</td>\n",
              "      <td>4975</td>\n",
              "      <td>21353.68465</td>\n",
              "      <td>59</td>\n",
              "      <td>BAT2333412</td>\n",
              "      <td>13.169095</td>\n",
              "      <td>D</td>\n",
              "      <td>E3</td>\n",
              "      <td>OWN</td>\n",
              "      <td>...</td>\n",
              "      <td>1.157454</td>\n",
              "      <td>0.207608</td>\n",
              "      <td>0</td>\n",
              "      <td>INDIVIDUAL</td>\n",
              "      <td>73</td>\n",
              "      <td>0</td>\n",
              "      <td>61</td>\n",
              "      <td>361339</td>\n",
              "      <td>39075</td>\n",
              "      <td>0</td>\n",
              "    </tr>\n",
              "    <tr>\n",
              "      <th>67462</th>\n",
              "      <td>65443173</td>\n",
              "      <td>15353</td>\n",
              "      <td>29875</td>\n",
              "      <td>14207.44860</td>\n",
              "      <td>59</td>\n",
              "      <td>BAT1930365</td>\n",
              "      <td>16.034631</td>\n",
              "      <td>B</td>\n",
              "      <td>D1</td>\n",
              "      <td>MORTGAGE</td>\n",
              "      <td>...</td>\n",
              "      <td>1.856480</td>\n",
              "      <td>0.366386</td>\n",
              "      <td>0</td>\n",
              "      <td>INDIVIDUAL</td>\n",
              "      <td>54</td>\n",
              "      <td>0</td>\n",
              "      <td>47</td>\n",
              "      <td>196960</td>\n",
              "      <td>66060</td>\n",
              "      <td>0</td>\n",
              "    </tr>\n",
              "  </tbody>\n",
              "</table>\n",
              "<p>67463 rows × 35 columns</p>\n",
              "</div>\n",
              "    <div class=\"colab-df-buttons\">\n",
              "\n",
              "  <div class=\"colab-df-container\">\n",
              "    <button class=\"colab-df-convert\" onclick=\"convertToInteractive('df-daa68b1c-0247-4733-8b02-177ff1344869')\"\n",
              "            title=\"Convert this dataframe to an interactive table.\"\n",
              "            style=\"display:none;\">\n",
              "\n",
              "  <svg xmlns=\"http://www.w3.org/2000/svg\" height=\"24px\" viewBox=\"0 -960 960 960\">\n",
              "    <path d=\"M120-120v-720h720v720H120Zm60-500h600v-160H180v160Zm220 220h160v-160H400v160Zm0 220h160v-160H400v160ZM180-400h160v-160H180v160Zm440 0h160v-160H620v160ZM180-180h160v-160H180v160Zm440 0h160v-160H620v160Z\"/>\n",
              "  </svg>\n",
              "    </button>\n",
              "\n",
              "  <style>\n",
              "    .colab-df-container {\n",
              "      display:flex;\n",
              "      gap: 12px;\n",
              "    }\n",
              "\n",
              "    .colab-df-convert {\n",
              "      background-color: #E8F0FE;\n",
              "      border: none;\n",
              "      border-radius: 50%;\n",
              "      cursor: pointer;\n",
              "      display: none;\n",
              "      fill: #1967D2;\n",
              "      height: 32px;\n",
              "      padding: 0 0 0 0;\n",
              "      width: 32px;\n",
              "    }\n",
              "\n",
              "    .colab-df-convert:hover {\n",
              "      background-color: #E2EBFA;\n",
              "      box-shadow: 0px 1px 2px rgba(60, 64, 67, 0.3), 0px 1px 3px 1px rgba(60, 64, 67, 0.15);\n",
              "      fill: #174EA6;\n",
              "    }\n",
              "\n",
              "    .colab-df-buttons div {\n",
              "      margin-bottom: 4px;\n",
              "    }\n",
              "\n",
              "    [theme=dark] .colab-df-convert {\n",
              "      background-color: #3B4455;\n",
              "      fill: #D2E3FC;\n",
              "    }\n",
              "\n",
              "    [theme=dark] .colab-df-convert:hover {\n",
              "      background-color: #434B5C;\n",
              "      box-shadow: 0px 1px 3px 1px rgba(0, 0, 0, 0.15);\n",
              "      filter: drop-shadow(0px 1px 2px rgba(0, 0, 0, 0.3));\n",
              "      fill: #FFFFFF;\n",
              "    }\n",
              "  </style>\n",
              "\n",
              "    <script>\n",
              "      const buttonEl =\n",
              "        document.querySelector('#df-daa68b1c-0247-4733-8b02-177ff1344869 button.colab-df-convert');\n",
              "      buttonEl.style.display =\n",
              "        google.colab.kernel.accessAllowed ? 'block' : 'none';\n",
              "\n",
              "      async function convertToInteractive(key) {\n",
              "        const element = document.querySelector('#df-daa68b1c-0247-4733-8b02-177ff1344869');\n",
              "        const dataTable =\n",
              "          await google.colab.kernel.invokeFunction('convertToInteractive',\n",
              "                                                    [key], {});\n",
              "        if (!dataTable) return;\n",
              "\n",
              "        const docLinkHtml = 'Like what you see? Visit the ' +\n",
              "          '<a target=\"_blank\" href=https://colab.research.google.com/notebooks/data_table.ipynb>data table notebook</a>'\n",
              "          + ' to learn more about interactive tables.';\n",
              "        element.innerHTML = '';\n",
              "        dataTable['output_type'] = 'display_data';\n",
              "        await google.colab.output.renderOutput(dataTable, element);\n",
              "        const docLink = document.createElement('div');\n",
              "        docLink.innerHTML = docLinkHtml;\n",
              "        element.appendChild(docLink);\n",
              "      }\n",
              "    </script>\n",
              "  </div>\n",
              "\n",
              "\n",
              "<div id=\"df-28af164b-c4ef-40f0-a311-5dbfded57f97\">\n",
              "  <button class=\"colab-df-quickchart\" onclick=\"quickchart('df-28af164b-c4ef-40f0-a311-5dbfded57f97')\"\n",
              "            title=\"Suggest charts\"\n",
              "            style=\"display:none;\">\n",
              "\n",
              "<svg xmlns=\"http://www.w3.org/2000/svg\" height=\"24px\"viewBox=\"0 0 24 24\"\n",
              "     width=\"24px\">\n",
              "    <g>\n",
              "        <path d=\"M19 3H5c-1.1 0-2 .9-2 2v14c0 1.1.9 2 2 2h14c1.1 0 2-.9 2-2V5c0-1.1-.9-2-2-2zM9 17H7v-7h2v7zm4 0h-2V7h2v10zm4 0h-2v-4h2v4z\"/>\n",
              "    </g>\n",
              "</svg>\n",
              "  </button>\n",
              "\n",
              "<style>\n",
              "  .colab-df-quickchart {\n",
              "      --bg-color: #E8F0FE;\n",
              "      --fill-color: #1967D2;\n",
              "      --hover-bg-color: #E2EBFA;\n",
              "      --hover-fill-color: #174EA6;\n",
              "      --disabled-fill-color: #AAA;\n",
              "      --disabled-bg-color: #DDD;\n",
              "  }\n",
              "\n",
              "  [theme=dark] .colab-df-quickchart {\n",
              "      --bg-color: #3B4455;\n",
              "      --fill-color: #D2E3FC;\n",
              "      --hover-bg-color: #434B5C;\n",
              "      --hover-fill-color: #FFFFFF;\n",
              "      --disabled-bg-color: #3B4455;\n",
              "      --disabled-fill-color: #666;\n",
              "  }\n",
              "\n",
              "  .colab-df-quickchart {\n",
              "    background-color: var(--bg-color);\n",
              "    border: none;\n",
              "    border-radius: 50%;\n",
              "    cursor: pointer;\n",
              "    display: none;\n",
              "    fill: var(--fill-color);\n",
              "    height: 32px;\n",
              "    padding: 0;\n",
              "    width: 32px;\n",
              "  }\n",
              "\n",
              "  .colab-df-quickchart:hover {\n",
              "    background-color: var(--hover-bg-color);\n",
              "    box-shadow: 0 1px 2px rgba(60, 64, 67, 0.3), 0 1px 3px 1px rgba(60, 64, 67, 0.15);\n",
              "    fill: var(--button-hover-fill-color);\n",
              "  }\n",
              "\n",
              "  .colab-df-quickchart-complete:disabled,\n",
              "  .colab-df-quickchart-complete:disabled:hover {\n",
              "    background-color: var(--disabled-bg-color);\n",
              "    fill: var(--disabled-fill-color);\n",
              "    box-shadow: none;\n",
              "  }\n",
              "\n",
              "  .colab-df-spinner {\n",
              "    border: 2px solid var(--fill-color);\n",
              "    border-color: transparent;\n",
              "    border-bottom-color: var(--fill-color);\n",
              "    animation:\n",
              "      spin 1s steps(1) infinite;\n",
              "  }\n",
              "\n",
              "  @keyframes spin {\n",
              "    0% {\n",
              "      border-color: transparent;\n",
              "      border-bottom-color: var(--fill-color);\n",
              "      border-left-color: var(--fill-color);\n",
              "    }\n",
              "    20% {\n",
              "      border-color: transparent;\n",
              "      border-left-color: var(--fill-color);\n",
              "      border-top-color: var(--fill-color);\n",
              "    }\n",
              "    30% {\n",
              "      border-color: transparent;\n",
              "      border-left-color: var(--fill-color);\n",
              "      border-top-color: var(--fill-color);\n",
              "      border-right-color: var(--fill-color);\n",
              "    }\n",
              "    40% {\n",
              "      border-color: transparent;\n",
              "      border-right-color: var(--fill-color);\n",
              "      border-top-color: var(--fill-color);\n",
              "    }\n",
              "    60% {\n",
              "      border-color: transparent;\n",
              "      border-right-color: var(--fill-color);\n",
              "    }\n",
              "    80% {\n",
              "      border-color: transparent;\n",
              "      border-right-color: var(--fill-color);\n",
              "      border-bottom-color: var(--fill-color);\n",
              "    }\n",
              "    90% {\n",
              "      border-color: transparent;\n",
              "      border-bottom-color: var(--fill-color);\n",
              "    }\n",
              "  }\n",
              "</style>\n",
              "\n",
              "  <script>\n",
              "    async function quickchart(key) {\n",
              "      const quickchartButtonEl =\n",
              "        document.querySelector('#' + key + ' button');\n",
              "      quickchartButtonEl.disabled = true;  // To prevent multiple clicks.\n",
              "      quickchartButtonEl.classList.add('colab-df-spinner');\n",
              "      try {\n",
              "        const charts = await google.colab.kernel.invokeFunction(\n",
              "            'suggestCharts', [key], {});\n",
              "      } catch (error) {\n",
              "        console.error('Error during call to suggestCharts:', error);\n",
              "      }\n",
              "      quickchartButtonEl.classList.remove('colab-df-spinner');\n",
              "      quickchartButtonEl.classList.add('colab-df-quickchart-complete');\n",
              "    }\n",
              "    (() => {\n",
              "      let quickchartButtonEl =\n",
              "        document.querySelector('#df-28af164b-c4ef-40f0-a311-5dbfded57f97 button');\n",
              "      quickchartButtonEl.style.display =\n",
              "        google.colab.kernel.accessAllowed ? 'block' : 'none';\n",
              "    })();\n",
              "  </script>\n",
              "</div>\n",
              "    </div>\n",
              "  </div>\n"
            ]
          },
          "metadata": {},
          "execution_count": 130
        }
      ],
      "source": [
        "df.drop_duplicates()"
      ]
    },
    {
      "cell_type": "markdown",
      "metadata": {
        "id": "310aF-Py-_gi"
      },
      "source": [
        "El dataset no contenia duplicados."
      ]
    },
    {
      "cell_type": "code",
      "execution_count": null,
      "metadata": {
        "colab": {
          "base_uri": "https://localhost:8080/"
        },
        "id": "WbAEAG0HVUJ6",
        "outputId": "6c9abfbe-26f9-4713-826c-ecdce125a7b3"
      },
      "outputs": [
        {
          "output_type": "execute_result",
          "data": {
            "text/plain": [
              "ID                              0\n",
              "Loan Amount                     0\n",
              "Funded Amount                   0\n",
              "Funded Amount Investor          0\n",
              "Term                            0\n",
              "Batch Enrolled                  0\n",
              "Interest Rate                   0\n",
              "Grade                           0\n",
              "Sub Grade                       0\n",
              "Employment Duration             0\n",
              "Home Ownership                  0\n",
              "Verification Status             0\n",
              "Payment Plan                    0\n",
              "Loan Title                      0\n",
              "Debit to Income                 0\n",
              "Delinquency - two years         0\n",
              "Inquires - six months           0\n",
              "Open Account                    0\n",
              "Public Record                   0\n",
              "Revolving Balance               0\n",
              "Revolving Utilities             0\n",
              "Total Accounts                  0\n",
              "Initial List Status             0\n",
              "Total Received Interest         0\n",
              "Total Received Late Fee         0\n",
              "Recoveries                      0\n",
              "Collection Recovery Fee         0\n",
              "Collection 12 months Medical    0\n",
              "Application Type                0\n",
              "Last week Pay                   0\n",
              "Accounts Delinquent             0\n",
              "Total Collection Amount         0\n",
              "Total Current Balance           0\n",
              "Total Revolving Credit Limit    0\n",
              "Loan Status                     0\n",
              "dtype: int64"
            ]
          },
          "metadata": {},
          "execution_count": 131
        }
      ],
      "source": [
        "# Tassio\n",
        "#check null values\n",
        "df.isnull().sum(axis = 0)"
      ]
    },
    {
      "cell_type": "markdown",
      "metadata": {
        "id": "X0ovATjfafZY"
      },
      "source": [
        "No null values"
      ]
    },
    {
      "cell_type": "code",
      "source": [
        "# check if all ids are unique\n",
        "len(df['ID'].unique()) == len(df.index)"
      ],
      "metadata": {
        "colab": {
          "base_uri": "https://localhost:8080/"
        },
        "id": "7Zp6abrFJasH",
        "outputId": "417042d1-3ee6-4415-acf2-a6bda6c22582"
      },
      "execution_count": null,
      "outputs": [
        {
          "output_type": "execute_result",
          "data": {
            "text/plain": [
              "True"
            ]
          },
          "metadata": {},
          "execution_count": 132
        }
      ]
    },
    {
      "cell_type": "code",
      "source": [
        "def unique_value_for_dataframe(df):\n",
        "  for cols in df.columns:\n",
        "    print('----------Unique values in \"'+ cols +'\" column-------------------')\n",
        "    print(df[cols].unique())\n",
        "    print('-----------End of unique values for \"' + cols +'\" columns ---------------\\n' )\n",
        "\n",
        "unique_value_for_dataframe(df)"
      ],
      "metadata": {
        "colab": {
          "base_uri": "https://localhost:8080/"
        },
        "id": "-CnLpLGvIXh7",
        "outputId": "8b0abc4f-fe92-4066-b4b3-5da657460318"
      },
      "execution_count": null,
      "outputs": [
        {
          "output_type": "stream",
          "name": "stdout",
          "text": [
            "----------Unique values in \"ID\" column-------------------\n",
            "[65087372  1450153  1969101 ... 16435904  5300325 65443173]\n",
            "-----------End of unique values for \"ID\" columns ---------------\n",
            "\n",
            "----------Unique values in \"Loan Amount\" column-------------------\n",
            "[10000  3609 28276 ... 30703 17417  8323]\n",
            "-----------End of unique values for \"Loan Amount\" columns ---------------\n",
            "\n",
            "----------Unique values in \"Funded Amount\" column-------------------\n",
            "[32236 11940  9311 ... 17672 32921 29875]\n",
            "-----------End of unique values for \"Funded Amount\" columns ---------------\n",
            "\n",
            "----------Unique values in \"Funded Amount Investor\" column-------------------\n",
            "[12329.36286 12191.99692 21603.22455 ... 12329.45775 21353.68465\n",
            " 14207.4486 ]\n",
            "-----------End of unique values for \"Funded Amount Investor\" columns ---------------\n",
            "\n",
            "----------Unique values in \"Term\" column-------------------\n",
            "[59 36 58]\n",
            "-----------End of unique values for \"Term\" columns ---------------\n",
            "\n",
            "----------Unique values in \"Batch Enrolled\" column-------------------\n",
            "['BAT2522922' 'BAT1586599' 'BAT2136391' 'BAT2428731' 'BAT5341619'\n",
            " 'BAT4694572' 'BAT4808022' 'BAT2558388' 'BAT2078974' 'BAT2252229'\n",
            " 'BAT2333412' 'BAT5849876' 'BAT2833642' 'BAT2803411' 'BAT5525466'\n",
            " 'BAT5714674' 'BAT2003848' 'BAT4722912' 'BAT3873588' 'BAT1780517'\n",
            " 'BAT4271519' 'BAT5811547' 'BAT1184694' 'BAT4136152' 'BAT3193689'\n",
            " 'BAT1467036' 'BAT2575549' 'BAT4351734' 'BAT1104812' 'BAT5924421'\n",
            " 'BAT1930365' 'BAT1766061' 'BAT5489674' 'BAT3865626' 'BAT5629144'\n",
            " 'BAT5547201' 'BAT224923' 'BAT3726927' 'BAT3461431' 'BAT1761981'\n",
            " 'BAT1135695']\n",
            "-----------End of unique values for \"Batch Enrolled\" columns ---------------\n",
            "\n",
            "----------Unique values in \"Interest Rate\" column-------------------\n",
            "[11.13500686 12.23756263 12.54588365 ... 19.65094342 13.16909487\n",
            " 16.03463076]\n",
            "-----------End of unique values for \"Interest Rate\" columns ---------------\n",
            "\n",
            "----------Unique values in \"Grade\" column-------------------\n",
            "['B' 'C' 'F' 'A' 'G' 'E' 'D']\n",
            "-----------End of unique values for \"Grade\" columns ---------------\n",
            "\n",
            "----------Unique values in \"Sub Grade\" column-------------------\n",
            "['C4' 'D3' 'D4' 'C3' 'G5' 'C5' 'A5' 'C2' 'B5' 'B1' 'B4' 'A4' 'B2' 'D2'\n",
            " 'C1' 'F3' 'D1' 'F2' 'A2' 'A3' 'F1' 'E5' 'B3' 'F4' 'G1' 'F5' 'E1' 'E2'\n",
            " 'D5' 'G2' 'E4' 'A1' 'G3' 'E3' 'G4']\n",
            "-----------End of unique values for \"Sub Grade\" columns ---------------\n",
            "\n",
            "----------Unique values in \"Employment Duration\" column-------------------\n",
            "['MORTGAGE' 'RENT' 'OWN']\n",
            "-----------End of unique values for \"Employment Duration\" columns ---------------\n",
            "\n",
            "----------Unique values in \"Home Ownership\" column-------------------\n",
            "[176346.6267   39833.921    91506.69105 ...  34813.96985  96938.83564\n",
            " 105123.1558 ]\n",
            "-----------End of unique values for \"Home Ownership\" columns ---------------\n",
            "\n",
            "----------Unique values in \"Verification Status\" column-------------------\n",
            "['Not Verified' 'Source Verified' 'Verified']\n",
            "-----------End of unique values for \"Verification Status\" columns ---------------\n",
            "\n",
            "----------Unique values in \"Payment Plan\" column-------------------\n",
            "['n']\n",
            "-----------End of unique values for \"Payment Plan\" columns ---------------\n",
            "\n",
            "----------Unique values in \"Loan Title\" column-------------------\n",
            "['Debt Consolidation' 'Debt consolidation' 'Credit card refinancing'\n",
            " 'Home improvement' 'Credit Consolidation' 'Green loan' 'Other'\n",
            " 'Moving and relocation' 'Credit Cards' 'Medical expenses'\n",
            " 'DEBT CONSOLIDATION' 'Home Improvement' 'Refinance'\n",
            " 'credit card consolidation' 'Lending Club' 'Debt Consolidation Loan'\n",
            " 'Major purchase' 'Vacation' 'Business' 'Credit card payoff'\n",
            " 'Credit Card Consolidation' 'credit card' 'Credit Card Refi'\n",
            " 'Personal Loan' 'CC Refi' 'consolidate' 'Medical' 'Loan 1'\n",
            " 'Consolidation' 'Card Consolidation' 'Car financing' 'debt'\n",
            " 'home improvement' 'debt consolidation' 'Home buying' 'Freedom'\n",
            " 'Consolidate' 'Consolidated' 'get out of debt' 'consolidation loan'\n",
            " 'Dept consolidation' 'Personal loan' 'Personal' 'Debt' 'cards' 'Cards'\n",
            " 'Bathroom' 'refi' 'Credit Card Loan' 'Credit Card Debt' 'House'\n",
            " 'Debt Consolidation 2013' 'debt loan' 'CC Refinance' 'Consolidation Loan'\n",
            " 'Home' 'CC consolidation' 'Credit Card' 'Credit Card Refinance'\n",
            " 'Credit Loan' 'payoff' 'Bill Consolidation' 'credit card refinance'\n",
            " 'Credit Card consolidation' 'Credit Card Paydown' 'Credit card pay off'\n",
            " 'vacation' 'Credit card refinance' 'Get Debt Free' 'MYLOAN'\n",
            " 'credit pay off' 'Payoff' 'consolidation' 'My Loan' 'Loan' 'Bill Payoff'\n",
            " 'CC-Refinance' 'Debt Reduction' 'Medical loan' 'Wedding Loan' 'Credit'\n",
            " 'CONSOLIDATE' 'personal' 'pay off bills' 'CC Consolidation'\n",
            " 'Refinance Loan' 'Credit Card Payoff' 'Debt Payoff' 'Car Loan' 'Pay Off'\n",
            " 'Debt Loan' 'CONSOLIDATION' 'Pool' 'Credit payoff'\n",
            " 'Credit Card Refinance Loan' 'CC Loan' 'Debt Free'\n",
            " 'debt consolidation loan' 'conso' 'Home Improvement Loan'\n",
            " 'Loan Consolidation' 'Debt payoff' 'Lending loan' 'relief' 'CC' 'loan1'\n",
            " 'Getting Ahead' 'Home loan' 'bills']\n",
            "-----------End of unique values for \"Loan Title\" columns ---------------\n",
            "\n",
            "----------Unique values in \"Debit to Income\" column-------------------\n",
            "[16.28475781 15.41240945 28.13761862 ... 10.29577356  7.61462376\n",
            " 16.05211225]\n",
            "-----------End of unique values for \"Debit to Income\" columns ---------------\n",
            "\n",
            "----------Unique values in \"Delinquency - two years\" column-------------------\n",
            "[1 0 3 6 2 7 5 4 8]\n",
            "-----------End of unique values for \"Delinquency - two years\" columns ---------------\n",
            "\n",
            "----------Unique values in \"Inquires - six months\" column-------------------\n",
            "[0 3 2 1 4 5]\n",
            "-----------End of unique values for \"Inquires - six months\" columns ---------------\n",
            "\n",
            "----------Unique values in \"Open Account\" column-------------------\n",
            "[13 12 14  7 16 11  6 17 10  8  9 26 31 28 19 15 33 30 21 18 27 20 25 24\n",
            " 23 22 34 32 29  5  4 36 35  3 37  2]\n",
            "-----------End of unique values for \"Open Account\" columns ---------------\n",
            "\n",
            "----------Unique values in \"Public Record\" column-------------------\n",
            "[0 1 2 4 3]\n",
            "-----------End of unique values for \"Public Record\" columns ---------------\n",
            "\n",
            "----------Unique values in \"Revolving Balance\" column-------------------\n",
            "[24246   812  1843 ... 18806 29762 27384]\n",
            "-----------End of unique values for \"Revolving Balance\" columns ---------------\n",
            "\n",
            "----------Unique values in \"Revolving Utilities\" column-------------------\n",
            "[74.93255103 78.29718601  2.07303987 ...  1.50009028 68.4818825\n",
            " 81.69232835]\n",
            "-----------End of unique values for \"Revolving Utilities\" columns ---------------\n",
            "\n",
            "----------Unique values in \"Total Accounts\" column-------------------\n",
            "[ 7 13 20 12 22 37 33 17 30 46 21 19 10 16 14  9 25 11 24 23 15 18 28  8\n",
            " 38 27 29  6 26  4  5 32 56 44 31 34 40 39 45 36 41 35 42 50 52 43 63 47\n",
            " 66 48 49 54 68 53 55 65 51 60 61 59 57 64 72 58 71 67 69 70 62]\n",
            "-----------End of unique values for \"Total Accounts\" columns ---------------\n",
            "\n",
            "----------Unique values in \"Initial List Status\" column-------------------\n",
            "['w' 'f']\n",
            "-----------End of unique values for \"Initial List Status\" columns ---------------\n",
            "\n",
            "----------Unique values in \"Total Received Interest\" column-------------------\n",
            "[2929.646315   772.769385   863.3243956 ... 2691.995532  3659.334202\n",
            " 1324.255922 ]\n",
            "-----------End of unique values for \"Total Received Interest\" columns ---------------\n",
            "\n",
            "----------Unique values in \"Total Received Late Fee\" column-------------------\n",
            "[1.02055198e-01 3.61811700e-02 1.87786601e+01 ... 2.82115230e-02\n",
            " 7.45083190e-02 6.70556000e-04]\n",
            "-----------End of unique values for \"Total Received Late Fee\" columns ---------------\n",
            "\n",
            "----------Unique values in \"Recoveries\" column-------------------\n",
            "[2.49829096 2.37721476 4.31627734 ... 5.67309165 1.15745391 1.85647963]\n",
            "-----------End of unique values for \"Recoveries\" columns ---------------\n",
            "\n",
            "----------Unique values in \"Collection Recovery Fee\" column-------------------\n",
            "[0.79372376 0.9748211  1.02007495 ... 1.60709263 0.20760821 0.3663859 ]\n",
            "-----------End of unique values for \"Collection Recovery Fee\" columns ---------------\n",
            "\n",
            "----------Unique values in \"Collection 12 months Medical\" column-------------------\n",
            "[0 1]\n",
            "-----------End of unique values for \"Collection 12 months Medical\" columns ---------------\n",
            "\n",
            "----------Unique values in \"Application Type\" column-------------------\n",
            "['INDIVIDUAL' 'JOINT']\n",
            "-----------End of unique values for \"Application Type\" columns ---------------\n",
            "\n",
            "----------Unique values in \"Last week Pay\" column-------------------\n",
            "[ 49 109  66  39  18  32  71  87 144   9  34  55 120  72  83 126 128  76\n",
            " 151  33  97  88 103   1  77   2  69  54  13   3  16 154  67  82  90  28\n",
            " 139  98  50  14   6  42  65 118 157 161 137 155 122  57 152 131  51 119\n",
            "  37 125  96   4  41 140  53 153  74  60  93 117 145  95 106  17  36 156\n",
            "  22 130  64  43 110   8 101 138  59  91   0 147 159  21 123  61   7  40\n",
            "  12  56 102 160 108  47  86  70  80  58  99  25  29 112 107 150 132  23\n",
            " 149  19  85  63  27  73  38  31  44  92  89  94  45 133 104 127 115 113\n",
            " 135 142  68  30 121 116 148   5  35  48  78 124  79  46  81  11 141 129\n",
            " 143  52 105  20 114  62  15 146 134 111  10 100  84  26 158  24  75 136]\n",
            "-----------End of unique values for \"Last week Pay\" columns ---------------\n",
            "\n",
            "----------Unique values in \"Accounts Delinquent\" column-------------------\n",
            "[0]\n",
            "-----------End of unique values for \"Accounts Delinquent\" columns ---------------\n",
            "\n",
            "----------Unique values in \"Total Collection Amount\" column-------------------\n",
            "[  31   53   34 ... 9920 1902 5302]\n",
            "-----------End of unique values for \"Total Collection Amount\" columns ---------------\n",
            "\n",
            "----------Unique values in \"Total Current Balance\" column-------------------\n",
            "[311301 182610  89801 ... 176857 361339 196960]\n",
            "-----------End of unique values for \"Total Current Balance\" columns ---------------\n",
            "\n",
            "----------Unique values in \"Total Revolving Credit Limit\" column-------------------\n",
            "[ 6619 20885 26155 ... 42330 39075 66060]\n",
            "-----------End of unique values for \"Total Revolving Credit Limit\" columns ---------------\n",
            "\n",
            "----------Unique values in \"Loan Status\" column-------------------\n",
            "[0 1]\n",
            "-----------End of unique values for \"Loan Status\" columns ---------------\n",
            "\n"
          ]
        }
      ]
    },
    {
      "cell_type": "code",
      "execution_count": null,
      "metadata": {
        "colab": {
          "base_uri": "https://localhost:8080/"
        },
        "id": "gHtInt9NVPIX",
        "outputId": "b0a25ec9-c26a-4480-c6bd-d67f4e67c3ce"
      },
      "outputs": [
        {
          "output_type": "stream",
          "name": "stdout",
          "text": [
            "(67463, 35)\n",
            "                 ID   Loan Amount  Funded Amount  Funded Amount Investor  \\\n",
            "count  6.746300e+04  67463.000000   67463.000000            67463.000000   \n",
            "mean   2.562761e+07  16848.902776   15770.599114            14621.799323   \n",
            "std    2.109155e+07   8367.865726    8150.992662             6785.345170   \n",
            "min    1.297933e+06   1014.000000    1014.000000             1114.590204   \n",
            "25%    6.570288e+06  10012.000000    9266.500000             9831.684984   \n",
            "50%    1.791565e+07  16073.000000   13042.000000            12793.682170   \n",
            "75%    4.271521e+07  22106.000000   21793.000000            17807.594120   \n",
            "max    7.224578e+07  35000.000000   34999.000000            34999.746430   \n",
            "\n",
            "               Term  Interest Rate  Home Ownership  Debit to Income  \\\n",
            "count  67463.000000   67463.000000    67463.000000     67463.000000   \n",
            "mean      58.173814      11.846258    80541.502522        23.299241   \n",
            "std        3.327441       3.718629    45029.120366         8.451824   \n",
            "min       36.000000       5.320006    14573.537170         0.675299   \n",
            "25%       58.000000       9.297147    51689.843335        16.756416   \n",
            "50%       59.000000      11.377696    69335.832680        22.656658   \n",
            "75%       59.000000      14.193533    94623.322785        30.048400   \n",
            "max       59.000000      27.182348   406561.536400        39.629862   \n",
            "\n",
            "       Delinquency - two years  Inquires - six months  ...  \\\n",
            "count             67463.000000           67463.000000  ...   \n",
            "mean                  0.327127               0.145754  ...   \n",
            "std                   0.800888               0.473291  ...   \n",
            "min                   0.000000               0.000000  ...   \n",
            "25%                   0.000000               0.000000  ...   \n",
            "50%                   0.000000               0.000000  ...   \n",
            "75%                   0.000000               0.000000  ...   \n",
            "max                   8.000000               5.000000  ...   \n",
            "\n",
            "       Total Received Late Fee    Recoveries  Collection Recovery Fee  \\\n",
            "count             67463.000000  67463.000000             67463.000000   \n",
            "mean                  1.143969     59.691578                 1.125141   \n",
            "std                   5.244365    357.026346                 3.489885   \n",
            "min                   0.000003      0.000036                 0.000036   \n",
            "25%                   0.021114      1.629818                 0.476259   \n",
            "50%                   0.043398      3.344524                 0.780141   \n",
            "75%                   0.071884      5.453727                 1.070566   \n",
            "max                  42.618882   4354.467419               166.833000   \n",
            "\n",
            "       Collection 12 months Medical  Last week Pay  Accounts Delinquent  \\\n",
            "count                  67463.000000   67463.000000              67463.0   \n",
            "mean                       0.021301      71.163260                  0.0   \n",
            "std                        0.144385      43.315845                  0.0   \n",
            "min                        0.000000       0.000000                  0.0   \n",
            "25%                        0.000000      35.000000                  0.0   \n",
            "50%                        0.000000      68.000000                  0.0   \n",
            "75%                        0.000000     105.000000                  0.0   \n",
            "max                        1.000000     161.000000                  0.0   \n",
            "\n",
            "       Total Collection Amount  Total Current Balance  \\\n",
            "count             67463.000000           6.746300e+04   \n",
            "mean                146.467990           1.595739e+05   \n",
            "std                 744.382233           1.390332e+05   \n",
            "min                   1.000000           6.170000e+02   \n",
            "25%                  24.000000           5.037900e+04   \n",
            "50%                  36.000000           1.183690e+05   \n",
            "75%                  46.000000           2.283750e+05   \n",
            "max               16421.000000           1.177412e+06   \n",
            "\n",
            "       Total Revolving Credit Limit   Loan Status  \n",
            "count                  67463.000000  67463.000000  \n",
            "mean                   23123.005544      0.092510  \n",
            "std                    20916.699999      0.289747  \n",
            "min                     1000.000000      0.000000  \n",
            "25%                     8155.500000      0.000000  \n",
            "50%                    16733.000000      0.000000  \n",
            "75%                    32146.500000      0.000000  \n",
            "max                   201169.000000      1.000000  \n",
            "\n",
            "[8 rows x 26 columns]\n"
          ]
        }
      ],
      "source": [
        "# shape\n",
        "print(df.shape)\n",
        "# describe\n",
        "print(df.describe())"
      ]
    },
    {
      "cell_type": "markdown",
      "source": [
        "#### Graphics exploration"
      ],
      "metadata": {
        "id": "5RT3ErzbO4zG"
      }
    },
    {
      "cell_type": "code",
      "execution_count": null,
      "metadata": {
        "id": "JYr1xr7zFLCN",
        "colab": {
          "base_uri": "https://localhost:8080/"
        },
        "outputId": "2ef7e908-8a8c-4ea7-86f0-fc8ae0aea0f2"
      },
      "outputs": [
        {
          "output_type": "display_data",
          "data": {
            "text/plain": [
              "<Figure size 640x480 with 1 Axes>"
            ],
            "image/png": "[encoded data removed]"
          },
          "metadata": {}
        },
        {
          "output_type": "display_data",
          "data": {
            "text/plain": [
              "<Figure size 600x600 with 1 Axes>"
            ],
            "image/png": "[encoded data removed]"
          },
          "metadata": {}
        },
        {
          "output_type": "display_data",
          "data": {
            "text/plain": [
              "<Figure size 800x500 with 1 Axes>"
            ],
            "image/png": "[encoded data removed]"
          },
          "metadata": {}
        },
        {
          "output_type": "display_data",
          "data": {
            "text/plain": [
              "<Figure size 800x500 with 1 Axes>"
            ],
            "image/png": "[encoded data removed]"
          },
          "metadata": {}
        },
        {
          "output_type": "display_data",
          "data": {
            "text/plain": [
              "<Figure size 1000x600 with 1 Axes>"
            ],
            "image/png": "[encoded data removed]"
          },
          "metadata": {}
        },
        {
          "output_type": "display_data",
          "data": {
            "text/plain": [
              "<Figure size 1000x600 with 1 Axes>"
            ],
            "image/png": "[encoded data removed]"
          },
          "metadata": {}
        }
      ],
      "source": [
        "# Visualize the distribution of Loan Status\n",
        "sns.countplot(x='Loan Status', data=df)\n",
        "plt.title('Loan Status Distribution')\n",
        "plt.show()\n",
        "\n",
        "# Box plots to identify outliers\n",
        "plt.figure(figsize=(6, 6))\n",
        "sns.boxplot(x='Loan Status', y='Loan Amount', data=df)\n",
        "plt.title('Loan Amount vs. Loan Status')\n",
        "plt.show()\n",
        "\n",
        "# Countplot for Grade\n",
        "plt.figure(figsize=(8, 5))\n",
        "sns.countplot(x='Grade', data=df, order=sorted(df['Grade'].unique()))\n",
        "plt.title('Grade Distribution')\n",
        "plt.show()\n",
        "\n",
        "# Countplot for Verification Status\n",
        "plt.figure(figsize=(8, 5))\n",
        "sns.countplot(x='Verification Status', data=df)\n",
        "plt.title('Verification Status Distribution')\n",
        "plt.show()\n",
        "\n",
        "# Histogram for Delinquency - two years\n",
        "plt.figure(figsize=(10, 6))\n",
        "sns.histplot(data=df, x='Delinquency - two years', bins=30, kde=True)\n",
        "plt.title('Distribution of Delinquency - two years')\n",
        "plt.xlabel('Delinquency - two years')\n",
        "plt.show()\n",
        "\n",
        "# Histogram for Debit to Income\n",
        "plt.figure(figsize=(10, 6))\n",
        "sns.histplot(data=df, x='Debit to Income', bins=30, kde=True)\n",
        "plt.title('Distribution of Debit to Income')\n",
        "plt.xlabel('Debit to Income')\n",
        "plt.show()"
      ]
    },
    {
      "cell_type": "markdown",
      "metadata": {
        "id": "rEDi8Pz7Om3W"
      },
      "source": [
        "#Data pre processing\n"
      ]
    },
    {
      "cell_type": "markdown",
      "metadata": {
        "id": "MlkLZ5mPhp8e"
      },
      "source": [
        "##### Anova"
      ]
    },
    {
      "cell_type": "code",
      "execution_count": null,
      "metadata": {
        "colab": {
          "base_uri": "https://localhost:8080/"
        },
        "id": "jyCEQkZdlQYK",
        "outputId": "980d4b33-ddb8-4d65-ac8a-d52e406b2fc4"
      },
      "outputs": [
        {
          "output_type": "stream",
          "name": "stdout",
          "text": [
            "Selected features based on ANOVA:\n",
            "['Delinquency - two years', 'Public Record', 'Total Received Late Fee', 'Total Collection Amount', 'Total Current Balance', 'Loan Status']\n",
            "ANOVA p-values for numerical attributes:\n",
            "{'Delinquency - two years': 0.009462634922992178, 'Public Record': 0.005946386493849328, 'Total Received Late Fee': 0.014999219404735661, 'Total Collection Amount': 0.04037045067395023, 'Total Current Balance': 0.010689900265710124, 'Loan Status': 0.0}\n"
          ]
        },
        {
          "output_type": "stream",
          "name": "stderr",
          "text": [
            "/usr/local/lib/python3.10/dist-packages/scipy/stats/_stats_py.py:4167: ConstantInputWarning: Each of the input arrays is constant;the F statistic is not defined or infinite\n",
            "  warnings.warn(stats.ConstantInputWarning(msg))\n"
          ]
        }
      ],
      "source": [
        "from scipy.stats import f_oneway, chi2_contingency\n",
        "\n",
        "# Separate the DataFrame into numerical and categorical attributes\n",
        "numerical_attributes = df.select_dtypes(include=['int64', 'float64'])\n",
        "categorical_attributes = df.select_dtypes(include=['object'])\n",
        "\n",
        "# Create empty lists to store selected features for ANOVA\n",
        "selected_features_anova = []\n",
        "\n",
        "# Perform ANOVA for numerical attributes\n",
        "for column in numerical_attributes.columns:\n",
        "    p_value = f_oneway(df[df['Loan Status'] == 1][column], df[df['Loan Status'] == 0][column]).pvalue\n",
        "    if p_value < 0.05:  # You can adjust the significance level (alpha) as needed\n",
        "        selected_features_anova.append(column)\n",
        "\n",
        "# Print the selected features for ANOVA\n",
        "print(\"Selected features based on ANOVA:\")\n",
        "print(selected_features_anova)\n",
        "\n",
        "# ANOVA results\n",
        "anova_results = {}\n",
        "for column in selected_features_anova:\n",
        "    anova_result = f_oneway(df[df['Loan Status'] == 1][column], df[df['Loan Status'] == 0][column])\n",
        "    anova_results[column] = anova_result.pvalue\n",
        "\n",
        "# Print ANOVA results\n",
        "print(\"ANOVA p-values for numerical attributes:\")\n",
        "print(anova_results)\n"
      ]
    },
    {
      "cell_type": "markdown",
      "metadata": {
        "id": "Wqj3fc2ml7Zj"
      },
      "source": [
        "##### chi-square"
      ]
    },
    {
      "cell_type": "code",
      "execution_count": null,
      "metadata": {
        "colab": {
          "base_uri": "https://localhost:8080/"
        },
        "id": "O6LRJ__Flue4",
        "outputId": "b7b45c22-ef78-4a67-abb9-2ae17dcaa911"
      },
      "outputs": [
        {
          "output_type": "stream",
          "name": "stdout",
          "text": [
            "\n",
            "Chi-Square p-values for categorical attributes:\n",
            "{'Grade': 0.0293605144624493, 'Employment Duration': 0.000318849414713897, 'Initial List Status': 0.0005038281525924869}\n",
            "\n",
            "Selected features based on Chi-Square:\n",
            "['Grade', 'Employment Duration', 'Initial List Status']\n"
          ]
        }
      ],
      "source": [
        "# Separate the DataFrame into numerical and categorical attributes\n",
        "numerical_attributes = df.select_dtypes(include=['int64', 'float64'])\n",
        "categorical_attributes = df.select_dtypes(include=['object'])\n",
        "\n",
        "# Create empty lists to store selected features for ANOVA and Chi-Square\n",
        "selected_features_chi2 = []\n",
        "\n",
        "# Perform Chi-Square test for categorical attributes\n",
        "for column in categorical_attributes.columns:\n",
        "    contingency_table = pd.crosstab(df[column], df['Loan Status'])\n",
        "    chi2, p_value, _, _ = chi2_contingency(contingency_table)\n",
        "    if p_value < 0.05:\n",
        "        selected_features_chi2.append(column)\n",
        "\n",
        "# 2. Chi-Square for categorical attributes\n",
        "chi2_results = {}\n",
        "for column in selected_features_chi2:\n",
        "    contingency_table = pd.crosstab(df[column], df['Loan Status'])\n",
        "    chi2_result = chi2_contingency(contingency_table)\n",
        "    chi2_results[column] = chi2_result[1]\n",
        "\n",
        "# Print Chi-Square results\n",
        "print(\"\\nChi-Square p-values for categorical attributes:\")\n",
        "print(chi2_results)\n",
        "\n",
        "\n",
        "\n",
        "print(\"\\nSelected features based on Chi-Square:\")\n",
        "print(selected_features_chi2)"
      ]
    },
    {
      "cell_type": "markdown",
      "metadata": {
        "id": "bF3ARwiqukm0"
      },
      "source": [
        "#####  Autocorrelation and multicollinearity"
      ]
    },
    {
      "cell_type": "code",
      "execution_count": null,
      "metadata": {
        "colab": {
          "base_uri": "https://localhost:8080/"
        },
        "id": "g2YAsZS7YJZY",
        "outputId": "30c15442-5f36-49f9-9be0-dc3548787f15"
      },
      "outputs": [
        {
          "output_type": "stream",
          "name": "stdout",
          "text": [
            "Matriz de Correlação:\n",
            "                         Delinquency - two years  Public Record  \\\n",
            "Delinquency - two years                 1.000000       0.006716   \n",
            "Public Record                           0.006716       1.000000   \n",
            "Total Received Late Fee                 0.007943       0.016594   \n",
            "Total Collection Amount                 0.005642       0.012928   \n",
            "Total Current Balance                   0.002602       0.003935   \n",
            "Loan Status                             0.009990       0.010590   \n",
            "\n",
            "                         Total Received Late Fee  Total Collection Amount  \\\n",
            "Delinquency - two years                 0.007943                 0.005642   \n",
            "Public Record                           0.016594                 0.012928   \n",
            "Total Received Late Fee                 1.000000                 0.007441   \n",
            "Total Collection Amount                 0.007441                 1.000000   \n",
            "Total Current Balance                  -0.000526                 0.005318   \n",
            "Loan Status                             0.009365                 0.007892   \n",
            "\n",
            "                         Total Current Balance  Loan Status  \n",
            "Delinquency - two years               0.002602     0.009990  \n",
            "Public Record                         0.003935     0.010590  \n",
            "Total Received Late Fee              -0.000526     0.009365  \n",
            "Total Collection Amount               0.005318     0.007892  \n",
            "Total Current Balance                 1.000000     0.009828  \n",
            "Loan Status                           0.009828     1.000000  \n"
          ]
        },
        {
          "output_type": "stream",
          "name": "stderr",
          "text": [
            "<ipython-input-138-1f24d5312a59>:8: FutureWarning: The default value of numeric_only in DataFrame.corr is deprecated. In a future version, it will default to False. Select only valid columns or specify the value of numeric_only to silence this warning.\n",
            "  correlation_matrix = selected_variables.corr()\n"
          ]
        }
      ],
      "source": [
        "variables_anova = df[selected_features_anova]\n",
        "variables_chi2 = df[selected_features_chi2]\n",
        "\n",
        "# Concat two lists\n",
        "selected_variables = pd.concat([variables_anova, variables_chi2], axis=1)\n",
        "\n",
        "# Calculate the correlation matrix\n",
        "correlation_matrix = selected_variables.corr()\n",
        "\n",
        "# Correlation matrix\n",
        "print(\"Matriz de Correlação:\")\n",
        "print(correlation_matrix)\n"
      ]
    },
    {
      "cell_type": "code",
      "execution_count": null,
      "metadata": {
        "colab": {
          "base_uri": "https://localhost:8080/"
        },
        "id": "Yi3qM87YZn6r",
        "outputId": "4c8a2920-6ccf-427d-c529-53eb7a59f32d"
      },
      "outputs": [
        {
          "output_type": "stream",
          "name": "stdout",
          "text": [
            "Eigenvalues:\n",
            "[1.04092074 0.98183245 0.98600066 0.99150041 0.99658361 1.00316213]\n"
          ]
        },
        {
          "output_type": "stream",
          "name": "stderr",
          "text": [
            "<ipython-input-139-4391f1f40d3d>:2: FutureWarning: The default value of numeric_only in DataFrame.corr is deprecated. In a future version, it will default to False. Select only valid columns or specify the value of numeric_only to silence this warning.\n",
            "  correlation_matrix = selected_variables.corr()\n"
          ]
        }
      ],
      "source": [
        "# matriz de correlação\n",
        "correlation_matrix = selected_variables.corr()\n",
        "\n",
        "# valores próprios\n",
        "eigenvalues = np.linalg.eigvals(correlation_matrix)\n",
        "\n",
        "# Examinar os valores próprios\n",
        "print(\"Eigenvalues:\")\n",
        "print(eigenvalues)\n"
      ]
    },
    {
      "cell_type": "markdown",
      "metadata": {
        "id": "G1cV-wjPZnB1"
      },
      "source": [
        "These results suggest that there is no significant multicollinearity between the variables selected by the ANOVA and Chi-square and eigenvalues test. Therefore, there is no impediment to proceed with the construction of predictive models using these variables."
      ]
    },
    {
      "cell_type": "markdown",
      "source": [
        "##### Undersampling"
      ],
      "metadata": {
        "id": "85plRAo99Dcz"
      }
    },
    {
      "cell_type": "code",
      "source": [
        "from sklearn.utils import resample\n",
        "\n",
        "features_anova = ['Delinquency - two years', 'Public Record', 'Total Received Late Fee', 'Total Collection Amount', 'Total Current Balance', 'Loan Status']\n",
        "features_chi2 = ['Grade', 'Employment Duration', 'Initial List Status']\n",
        "\n",
        "# Criar DataFrame com as variáveis selecionadas\n",
        "selected_features = df[features_anova + features_chi2]\n",
        "\n",
        "# Separar as instâncias por classe\n",
        "df_class_0 = selected_features[selected_features['Loan Status'] == 0]\n",
        "df_class_1 = selected_features[selected_features['Loan Status'] == 1]\n",
        "\n",
        "# Undersampling da classe majoritária\n",
        "df_class_0_undersampled = resample(df_class_0, replace=False, n_samples=len(df_class_1), random_state=42)\n",
        "\n",
        "# Concatenar os dataframes balanceados\n",
        "df_balanced = pd.concat([df_class_0_undersampled, df_class_1])\n",
        "\n",
        "# Embaralhar as instâncias para garantir aleatoriedade\n",
        "df_balanced = df_balanced.sample(frac=1, random_state=42).reset_index(drop=True)\n",
        "\n",
        "\n"
      ],
      "metadata": {
        "id": "tcETUNKTnRpI"
      },
      "execution_count": null,
      "outputs": []
    },
    {
      "cell_type": "markdown",
      "source": [
        "#####  Oversampling"
      ],
      "metadata": {
        "id": "njOOqUMzod83"
      }
    },
    {
      "cell_type": "code",
      "source": [
        "from sklearn.utils import resample\n",
        "from imblearn.over_sampling import RandomOverSampler\n",
        "import pandas as pd\n",
        "\n",
        "features_anova = ['Delinquency - two years', 'Public Record', 'Total Received Late Fee', 'Total Collection Amount', 'Total Current Balance', 'Loan Status']\n",
        "features_chi2 = ['Grade', 'Employment Duration', 'Initial List Status']\n",
        "\n",
        "# Criar DataFrame com as variáveis selecionadas\n",
        "selected_features = df[features_anova + features_chi2]\n",
        "\n",
        "# Separar as instâncias por classe\n",
        "df_class_0 = selected_features[selected_features['Loan Status'] == 0]\n",
        "df_class_1 = selected_features[selected_features['Loan Status'] == 1]\n",
        "\n",
        "# Verificar se há dados suficientes para realizar o oversampling\n",
        "if len(df_class_1) < 2:\n",
        "    raise ValueError(\"Não há dados suficientes para realizar oversampling. Certifique-se de ter mais de uma instância na classe minoritária.\")\n",
        "\n",
        "# Oversampling da classe minoritária\n",
        "ros = RandomOverSampler(random_state=42)\n",
        "X_oversampled, y_oversampled = ros.fit_resample(selected_features.drop('Loan Status', axis=1), selected_features['Loan Status'])\n",
        "\n",
        "# Criar DataFrame com dados oversampled\n",
        "df_oversampled = pd.DataFrame(X_oversampled, columns=selected_features.drop('Loan Status', axis=1).columns)\n",
        "df_oversampled['Loan Status'] = y_oversampled\n",
        "\n",
        "# Concatenar os dataframes balanceados\n",
        "df_balanced = pd.concat([df_class_0, df_oversampled])\n",
        "\n",
        "# Embaralhar as instâncias para garantir aleatoriedade\n",
        "df_balanced = df_balanced.sample(frac=1, random_state=42).reset_index(drop=True)\n"
      ],
      "metadata": {
        "id": "lTQ_ocEV7YxF"
      },
      "execution_count": null,
      "outputs": []
    },
    {
      "cell_type": "code",
      "source": [
        "# Contar a quantidade de instâncias para cada classe\n",
        "count_loan_status = df_balanced['Loan Status'].value_counts()\n",
        "\n",
        "# Calcular a porcentagem\n",
        "percentage_loan_status = count_loan_status / len(df_balanced) * 100\n",
        "\n",
        "# Exibir os resultados\n",
        "print(\"Total de instâncias com Loan Status 0:\", count_loan_status[0])\n",
        "print(\"Total de instâncias com Loan Status 1:\", count_loan_status[1])\n",
        "\n",
        "print(\"\\nPorcentagem de Loan Status 0: {:.2f}%\".format(percentage_loan_status[0]))\n",
        "print(\"Porcentagem de Loan Status 1: {:.2f}%\".format(percentage_loan_status[1]))\n"
      ],
      "metadata": {
        "colab": {
          "base_uri": "https://localhost:8080/"
        },
        "id": "vA5x_-YqoIxK",
        "outputId": "7289705e-14d2-43c2-d20b-db59265ab854"
      },
      "execution_count": null,
      "outputs": [
        {
          "output_type": "stream",
          "name": "stdout",
          "text": [
            "Total de instâncias com Loan Status 0: 122444\n",
            "Total de instâncias com Loan Status 1: 61222\n",
            "\n",
            "Porcentagem de Loan Status 0: 66.67%\n",
            "Porcentagem de Loan Status 1: 33.33%\n"
          ]
        }
      ]
    },
    {
      "cell_type": "code",
      "source": [
        "# Contar a quantidade de instâncias para cada classe nos dados de treino\n",
        "count_train_loan_status = y_train.value_counts()\n",
        "\n",
        "# Calcular a porcentagem nos dados de treino\n",
        "percentage_train_loan_status = count_train_loan_status / len(y_train) * 100\n",
        "\n",
        "# Exibir os resultados nos dados de treino\n",
        "print(\"Dados de Treino:\")\n",
        "print(\"Total de instâncias com Loan Status 0:\", count_train_loan_status[0])\n",
        "print(\"Total de instâncias com Loan Status 1:\", count_train_loan_status[1])\n",
        "print(\"Porcentagem de Loan Status 0 nos dados de treino: {:.2f}%\".format(percentage_train_loan_status[0]))\n",
        "print(\"Porcentagem de Loan Status 1 nos dados de treino: {:.2f}%\\n\".format(percentage_train_loan_status[1]))\n",
        "\n",
        "# Contar a quantidade de instâncias para cada classe nos dados de teste\n",
        "count_test_loan_status = y_test.value_counts()\n",
        "\n",
        "# Calcular a porcentagem nos dados de teste\n",
        "percentage_test_loan_status = count_test_loan_status / len(y_test) * 100\n",
        "\n",
        "# Exibir os resultados nos dados de teste\n",
        "print(\"Dados de Teste:\")\n",
        "print(\"Total de instâncias com Loan Status 0:\", count_test_loan_status[0])\n",
        "print(\"Total de instâncias com Loan Status 1:\", count_test_loan_status[1])\n",
        "print(\"Porcentagem de Loan Status 0 nos dados de teste: {:.2f}%\".format(percentage_test_loan_status[0]))\n",
        "print(\"Porcentagem de Loan Status 1 nos dados de teste: {:.2f}%\".format(percentage_test_loan_status[1]))\n"
      ],
      "metadata": {
        "colab": {
          "base_uri": "https://localhost:8080/"
        },
        "id": "1ndz-hsdrbPf",
        "outputId": "210a6ea6-4893-4a36-ff30-78d027ec1cc3"
      },
      "execution_count": null,
      "outputs": [
        {
          "output_type": "stream",
          "name": "stdout",
          "text": [
            "Dados de Treino:\n",
            "Total de instâncias com Loan Status 0: 97869\n",
            "Total de instâncias com Loan Status 1: 49063\n",
            "Porcentagem de Loan Status 0 nos dados de treino: 66.61%\n",
            "Porcentagem de Loan Status 1 nos dados de treino: 33.39%\n",
            "\n",
            "Dados de Teste:\n",
            "Total de instâncias com Loan Status 0: 24575\n",
            "Total de instâncias com Loan Status 1: 12159\n",
            "Porcentagem de Loan Status 0 nos dados de teste: 66.90%\n",
            "Porcentagem de Loan Status 1 nos dados de teste: 33.10%\n"
          ]
        }
      ]
    },
    {
      "cell_type": "markdown",
      "source": [
        "##### Encode variables"
      ],
      "metadata": {
        "id": "rUHJjuMxrJzN"
      }
    },
    {
      "cell_type": "code",
      "source": [
        "from sklearn.model_selection import train_test_split\n",
        "from sklearn.compose import ColumnTransformer\n",
        "from sklearn.preprocessing import StandardScaler, OneHotEncoder\n",
        "\n",
        "# Separar variáveis preditoras (X) e variável alvo (y)\n",
        "X = df_balanced.drop('Loan Status', axis=1)\n",
        "y = df_balanced['Loan Status']\n",
        "\n",
        "# Dividir dados em treino e teste\n",
        "X_train, X_test, y_train, y_test = train_test_split(X, y, test_size=0.2, random_state=42)\n",
        "\n",
        "# Pré-processamento: normalizar numéricas e codificar categóricas\n",
        "preprocessor = ColumnTransformer(\n",
        "    transformers=[\n",
        "        ('num', StandardScaler(), X.select_dtypes(include=['int64', 'float64']).columns),\n",
        "        ('cat', OneHotEncoder(), X.select_dtypes(include=['object']).columns)\n",
        "    ])\n",
        "\n",
        "\n",
        "# Aplicar o pré-processamento aos dados de treino\n",
        "X_train_preprocessed = preprocessor.fit_transform(X_train)\n",
        "\n",
        "# Aplicar o pré-processamento aos dados de teste\n",
        "X_test_preprocessed = preprocessor.transform(X_test)\n"
      ],
      "metadata": {
        "id": "WCwXvdeorIYF"
      },
      "execution_count": null,
      "outputs": []
    },
    {
      "cell_type": "code",
      "source": [
        "# Obter os nomes das colunas após o pré-processamento\n",
        "preprocessed_columns = (\n",
        "    list(X.select_dtypes(include=['int64', 'float64']).columns) +\n",
        "    list(preprocessor.named_transformers_['cat'].get_feature_names_out(X.select_dtypes(include=['object']).columns))\n",
        ")\n",
        "\n",
        "# Criar DataFrames a partir das matrizes transformadas\n",
        "X_train_preprocessed_df = pd.DataFrame(X_train_preprocessed, columns=preprocessed_columns)\n",
        "X_test_preprocessed_df = pd.DataFrame(X_test_preprocessed, columns=preprocessed_columns)\n",
        "\n",
        "# Exibir os primeiros registros dos DataFrames transformados\n",
        "print(\"Dados de Treino após o pré-processamento:\")\n",
        "print(X_train_preprocessed_df.head())\n",
        "\n",
        "print(\"\\nDados de Teste após o pré-processamento:\")\n",
        "print(X_test_preprocessed_df.head())\n"
      ],
      "metadata": {
        "colab": {
          "base_uri": "https://localhost:8080/"
        },
        "id": "h0XXdRM_2grc",
        "outputId": "77867081-b4e0-488a-849e-f241fe623b47"
      },
      "execution_count": null,
      "outputs": [
        {
          "output_type": "stream",
          "name": "stdout",
          "text": [
            "Dados de Treino após o pré-processamento:\n",
            "   Delinquency - two years  Public Record  Total Received Late Fee  \\\n",
            "0                 0.810142       -0.23678                -0.214786   \n",
            "1                 0.810142       -0.23678                -0.218594   \n",
            "2                 0.810142       -0.23678                -0.220152   \n",
            "3                -0.404410       -0.23678                -0.203413   \n",
            "4                -0.404410       -0.23678                -0.214227   \n",
            "\n",
            "   Total Collection Amount  Total Current Balance  Grade_A  Grade_B  Grade_C  \\\n",
            "0                -0.155342               0.709078      0.0      0.0      0.0   \n",
            "1                 0.529323              -0.192694      0.0      0.0      1.0   \n",
            "2                -0.147606               0.311133      0.0      1.0      0.0   \n",
            "3                 2.164269              -0.596483      0.0      1.0      0.0   \n",
            "4                -0.120529               0.285574      0.0      0.0      1.0   \n",
            "\n",
            "   Grade_D  Grade_E  Grade_F  Grade_G  Employment Duration_MORTGAGE  \\\n",
            "0      1.0      0.0      0.0      0.0                           0.0   \n",
            "1      0.0      0.0      0.0      0.0                           0.0   \n",
            "2      0.0      0.0      0.0      0.0                           1.0   \n",
            "3      0.0      0.0      0.0      0.0                           1.0   \n",
            "4      0.0      0.0      0.0      0.0                           1.0   \n",
            "\n",
            "   Employment Duration_OWN  Employment Duration_RENT  Initial List Status_f  \\\n",
            "0                      0.0                       1.0                    1.0   \n",
            "1                      1.0                       0.0                    0.0   \n",
            "2                      0.0                       0.0                    0.0   \n",
            "3                      0.0                       0.0                    0.0   \n",
            "4                      0.0                       0.0                    1.0   \n",
            "\n",
            "   Initial List Status_w  \n",
            "0                    0.0  \n",
            "1                    1.0  \n",
            "2                    1.0  \n",
            "3                    1.0  \n",
            "4                    0.0  \n",
            "\n",
            "Dados de Teste após o pré-processamento:\n",
            "   Delinquency - two years  Public Record  Total Received Late Fee  \\\n",
            "0                -0.404410       -0.23678                -0.209799   \n",
            "1                 0.810142       -0.23678                -0.218646   \n",
            "2                -0.404410       -0.23678                -0.217442   \n",
            "3                -0.404410       -0.23678                -0.217492   \n",
            "4                -0.404410       -0.23678                -0.216641   \n",
            "\n",
            "   Total Collection Amount  Total Current Balance  Grade_A  Grade_B  Grade_C  \\\n",
            "0                -0.145027               0.891135      0.0      0.0      1.0   \n",
            "1                -0.163079              -1.002705      0.0      0.0      1.0   \n",
            "2                -0.133423               0.452698      1.0      0.0      0.0   \n",
            "3                -0.169526              -1.133350      0.0      0.0      1.0   \n",
            "4                -0.159211               0.594881      0.0      0.0      0.0   \n",
            "\n",
            "   Grade_D  Grade_E  Grade_F  Grade_G  Employment Duration_MORTGAGE  \\\n",
            "0      0.0      0.0      0.0      0.0                           1.0   \n",
            "1      0.0      0.0      0.0      0.0                           0.0   \n",
            "2      0.0      0.0      0.0      0.0                           1.0   \n",
            "3      0.0      0.0      0.0      0.0                           1.0   \n",
            "4      0.0      1.0      0.0      0.0                           0.0   \n",
            "\n",
            "   Employment Duration_OWN  Employment Duration_RENT  Initial List Status_f  \\\n",
            "0                      0.0                       0.0                    1.0   \n",
            "1                      0.0                       1.0                    0.0   \n",
            "2                      0.0                       0.0                    0.0   \n",
            "3                      0.0                       0.0                    0.0   \n",
            "4                      1.0                       0.0                    0.0   \n",
            "\n",
            "   Initial List Status_w  \n",
            "0                    0.0  \n",
            "1                    1.0  \n",
            "2                    1.0  \n",
            "3                    1.0  \n",
            "4                    1.0  \n"
          ]
        }
      ]
    },
    {
      "cell_type": "markdown",
      "source": [
        "# Models and Evaluation"
      ],
      "metadata": {
        "id": "KYhU9VIJqUK_"
      }
    },
    {
      "cell_type": "markdown",
      "source": [
        "#### Naive Bayes"
      ],
      "metadata": {
        "id": "EWwyq59me0CS"
      }
    },
    {
      "cell_type": "code",
      "source": [
        "from sklearn.naive_bayes import GaussianNB\n",
        "from sklearn.metrics import accuracy_score, precision_score, recall_score, f1_score, classification_report\n",
        "\n",
        "# Criar e treinar o modelo Naive Bayes\n",
        "nb_model = GaussianNB()\n",
        "nb_model.fit(X_train_preprocessed, y_train)\n",
        "\n",
        "# Fazer previsões nos dados de teste\n",
        "y_pred = nb_model.predict(X_test_preprocessed)\n",
        "\n",
        "# Avaliar o desempenho do modelo\n",
        "accuracy = accuracy_score(y_test, y_pred)\n",
        "precision = precision_score(y_test, y_pred)\n",
        "recall = recall_score(y_test, y_pred)\n",
        "f1 = f1_score(y_test, y_pred)\n",
        "\n",
        "# Exibir os resultados\n",
        "print(\"Accuracy:\", accuracy)\n",
        "print(\"Precision:\", precision)\n",
        "print(\"Recall:\", recall)\n",
        "print(\"F1 Score:\", f1)\n",
        "\n",
        "# Exibir um relatório de classificação detalhado\n",
        "print(\"\\nClassification Report:\")\n",
        "print(classification_report(y_test, y_pred))"
      ],
      "metadata": {
        "colab": {
          "base_uri": "https://localhost:8080/"
        },
        "id": "J0cCbbcDekuP",
        "outputId": "1b6d7906-3853-47b5-b0c2-e9a3c951cc35"
      },
      "execution_count": null,
      "outputs": [
        {
          "output_type": "stream",
          "name": "stdout",
          "text": [
            "Accuracy: 0.6399520879838841\n",
            "Precision: 0.3598634095087996\n",
            "Recall: 0.1126737396167448\n",
            "F1 Score: 0.17161468119754478\n",
            "\n",
            "Classification Report:\n",
            "              precision    recall  f1-score   support\n",
            "\n",
            "           0       0.67      0.90      0.77     24575\n",
            "           1       0.36      0.11      0.17     12159\n",
            "\n",
            "    accuracy                           0.64     36734\n",
            "   macro avg       0.52      0.51      0.47     36734\n",
            "weighted avg       0.57      0.64      0.57     36734\n",
            "\n"
          ]
        }
      ]
    },
    {
      "cell_type": "markdown",
      "source": [
        "#### KNeighbors"
      ],
      "metadata": {
        "id": "-mhNOhh1fFgA"
      }
    },
    {
      "cell_type": "code",
      "source": [
        "from sklearn.neighbors import KNeighborsClassifier\n",
        "from sklearn.metrics import accuracy_score, precision_score, recall_score, f1_score, classification_report\n",
        "\n",
        "# Criar e treinar o modelo KNeighbors\n",
        "knn_model = KNeighborsClassifier()\n",
        "knn_model.fit(X_train_preprocessed, y_train)\n",
        "\n",
        "# Fazer previsões nos dados de teste\n",
        "y_pred_knn = knn_model.predict(X_test_preprocessed)\n",
        "\n",
        "# Avaliar o desempenho do modelo\n",
        "accuracy_knn = accuracy_score(y_test, y_pred_knn)\n",
        "precision_knn = precision_score(y_test, y_pred_knn)\n",
        "recall_knn = recall_score(y_test, y_pred_knn)\n",
        "f1_knn = f1_score(y_test, y_pred_knn)\n",
        "\n",
        "# Exibir os resultados\n",
        "print(\"KNeighbors - Accuracy:\", accuracy_knn)\n",
        "print(\"KNeighbors - Precision:\", precision_knn)\n",
        "print(\"KNeighbors - Recall:\", recall_knn)\n",
        "print(\"KNeighbors - F1 Score:\", f1_knn)\n",
        "\n",
        "# Exibir um relatório de classificação detalhado\n",
        "print(\"\\nKNeighbors - Classification Report:\")\n",
        "print(classification_report(y_test, y_pred_knn))\n"
      ],
      "metadata": {
        "colab": {
          "base_uri": "https://localhost:8080/"
        },
        "id": "WfPljHT7fLMd",
        "outputId": "0fab2ff8-a650-4c53-992a-8f7d1781d50c"
      },
      "execution_count": null,
      "outputs": [
        {
          "output_type": "stream",
          "name": "stdout",
          "text": [
            "KNeighbors - Accuracy: 0.9039581858768443\n",
            "KNeighbors - Precision: 0.7799909167585805\n",
            "KNeighbors - Recall: 0.9887326260383256\n",
            "KNeighbors - F1 Score: 0.8720441027128971\n",
            "\n",
            "KNeighbors - Classification Report:\n",
            "              precision    recall  f1-score   support\n",
            "\n",
            "           0       0.99      0.86      0.92     24575\n",
            "           1       0.78      0.99      0.87     12159\n",
            "\n",
            "    accuracy                           0.90     36734\n",
            "   macro avg       0.89      0.93      0.90     36734\n",
            "weighted avg       0.92      0.90      0.91     36734\n",
            "\n"
          ]
        }
      ]
    },
    {
      "cell_type": "code",
      "source": [
        "from sklearn.model_selection import cross_validate\n",
        "\n",
        "# Especificar as métricas desejadas\n",
        "scoring_metrics = ['accuracy', 'precision', 'recall', 'f1']\n",
        "\n",
        "# Aplicar validação cruzada com 5 folds e obter métricas\n",
        "cv_results = cross_validate(knn_model, X_train_preprocessed, y_train, cv=5, scoring=scoring_metrics)\n",
        "\n",
        "# Exibir os resultados da validação cruzada\n",
        "print(\"Resultados da Validação Cruzada:\")\n",
        "for metric in scoring_metrics:\n",
        "    metric_scores = cv_results['test_' + metric]\n",
        "    print(f\"{metric.capitalize()}: {metric_scores}\")\n",
        "    print(f\"Média {metric.capitalize()} na Validação Cruzada: {metric_scores.mean():.2f}\\n\")\n"
      ],
      "metadata": {
        "colab": {
          "base_uri": "https://localhost:8080/"
        },
        "id": "gQW5mLOBCMRs",
        "outputId": "7c5777aa-ddb7-435e-b184-3d351271caf7"
      },
      "execution_count": null,
      "outputs": [
        {
          "output_type": "stream",
          "name": "stdout",
          "text": [
            "Resultados da Validação Cruzada:\n",
            "Accuracy: [0.8728009  0.87337939 0.87095896 0.87344314 0.87619955]\n",
            "Média Accuracy na Validação Cruzada: 0.87\n",
            "\n",
            "Precision: [0.73625263 0.73789441 0.73488336 0.73765504 0.74284141]\n",
            "Média Precision na Validação Cruzada: 0.74\n",
            "\n",
            "Recall: [0.96463874 0.96280444 0.95984918 0.9637179  0.96239299]\n",
            "Média Recall na Validação Cruzada: 0.96\n",
            "\n",
            "F1: [0.83511248 0.83547774 0.83243482 0.83566789 0.8384834 ]\n",
            "Média F1 na Validação Cruzada: 0.84\n",
            "\n"
          ]
        }
      ]
    },
    {
      "cell_type": "markdown",
      "source": [
        "#### Random Forest"
      ],
      "metadata": {
        "id": "cOPooG6nfZiL"
      }
    },
    {
      "cell_type": "code",
      "source": [
        "from sklearn.ensemble import RandomForestClassifier\n",
        "from sklearn.metrics import accuracy_score, precision_score, recall_score, f1_score, classification_report\n",
        "\n",
        "# Criar e treinar o modelo Random Forest\n",
        "rf_model = RandomForestClassifier(random_state=42)\n",
        "rf_model.fit(X_train_preprocessed, y_train)\n",
        "\n",
        "# Fazer previsões nos dados de teste\n",
        "y_pred_rf = rf_model.predict(X_test_preprocessed)\n",
        "\n",
        "# Avaliar o desempenho do modelo\n",
        "accuracy_rf = accuracy_score(y_test, y_pred_rf)\n",
        "precision_rf = precision_score(y_test, y_pred_rf)\n",
        "recall_rf = recall_score(y_test, y_pred_rf)\n",
        "f1_rf = f1_score(y_test, y_pred_rf)\n",
        "\n",
        "# Exibir os resultados\n",
        "print(\"Random Forest - Accuracy:\", accuracy_rf)\n",
        "print(\"Random Forest - Precision:\", precision_rf)\n",
        "print(\"Random Forest - Recall:\", recall_rf)\n",
        "print(\"Random Forest - F1 Score:\", f1_rf)\n",
        "\n",
        "# Exibir um relatório de classificação detalhado\n",
        "print(\"\\nRandom Forest - Classification Report:\")\n",
        "print(classification_report(y_test, y_pred_rf))\n"
      ],
      "metadata": {
        "colab": {
          "base_uri": "https://localhost:8080/"
        },
        "id": "RoFHWtaota0k",
        "outputId": "f6b351f0-259d-4f26-f259-bb562bb5d4e1"
      },
      "execution_count": null,
      "outputs": [
        {
          "output_type": "stream",
          "name": "stdout",
          "text": [
            "Random Forest - Accuracy: 0.9981760766592258\n",
            "Random Forest - Precision: 0.9947626841243863\n",
            "Random Forest - Recall: 0.999753269183321\n",
            "Random Forest - F1 Score: 0.9972517330489356\n",
            "\n",
            "Random Forest - Classification Report:\n",
            "              precision    recall  f1-score   support\n",
            "\n",
            "           0       1.00      1.00      1.00     24575\n",
            "           1       0.99      1.00      1.00     12159\n",
            "\n",
            "    accuracy                           1.00     36734\n",
            "   macro avg       1.00      1.00      1.00     36734\n",
            "weighted avg       1.00      1.00      1.00     36734\n",
            "\n"
          ]
        }
      ]
    },
    {
      "cell_type": "code",
      "source": [
        "from sklearn.ensemble import RandomForestClassifier\n",
        "from sklearn.model_selection import cross_validate\n",
        "\n",
        "\n",
        "# Especificar as métricas desejadas\n",
        "scoring_metrics = ['accuracy', 'precision', 'recall', 'f1']\n",
        "\n",
        "# Aplicar validação cruzada com 5 folds e obter métricas\n",
        "cv_results_rf = cross_validate(rf_model, X_train_preprocessed, y_train, cv=5, scoring=scoring_metrics)\n",
        "\n",
        "# Exibir os resultados da validação cruzada\n",
        "print(\"Resultados da Validação Cruzada - Random Forest:\")\n",
        "for metric in scoring_metrics:\n",
        "    metric_scores_rf = cv_results_rf['test_' + metric]\n",
        "    print(f\"{metric.capitalize()}: {metric_scores_rf}\")\n",
        "    print(f\"Média {metric.capitalize()} na Validação Cruzada: {metric_scores_rf.mean():.2f}\\n\")\n"
      ],
      "metadata": {
        "colab": {
          "base_uri": "https://localhost:8080/"
        },
        "id": "O4vUOUHrElqb",
        "outputId": "0268cc26-5186-4238-d8ca-829075a07be5"
      },
      "execution_count": null,
      "outputs": [
        {
          "output_type": "stream",
          "name": "stdout",
          "text": [
            "Resultados da Validação Cruzada - Random Forest:\n",
            "Accuracy: [0.99639296 0.99571239 0.99591642 0.99598448 0.99601851]\n",
            "Média Accuracy na Validação Cruzada: 1.00\n",
            "\n",
            "Precision: [0.99020301 0.98850227 0.9899909  0.98959596 0.990092  ]\n",
            "Média Precision na Validação Cruzada: 0.99\n",
            "\n",
            "Recall: [0.99908285 0.99877713 0.99785998 0.99847126 0.9980636 ]\n",
            "Média Recall na Validação Cruzada: 1.00\n",
            "\n",
            "F1: [0.99462311 0.99361314 0.99390987 0.9940138  0.99406182]\n",
            "Média F1 na Validação Cruzada: 0.99\n",
            "\n"
          ]
        }
      ]
    },
    {
      "cell_type": "code",
      "source": [],
      "metadata": {
        "id": "pTc1cG9PcxwG"
      },
      "execution_count": null,
      "outputs": []
    },
    {
      "cell_type": "markdown",
      "source": [
        "#### Logistic Regression"
      ],
      "metadata": {
        "id": "KZGXGWsn5Tx3"
      }
    },
    {
      "cell_type": "code",
      "source": [
        "from sklearn.linear_model import LogisticRegression\n",
        "from sklearn.model_selection import cross_val_score\n",
        "from sklearn.metrics import accuracy_score, precision_score, recall_score, f1_score, classification_report\n",
        "\n",
        "# Criar e treinar o modelo de Regressão Logística\n",
        "logreg_model = LogisticRegression(random_state=42)\n",
        "logreg_model.fit(X_train_preprocessed, y_train)\n",
        "\n",
        "# Fazer previsões nos dados de teste\n",
        "y_pred_logreg = logreg_model.predict(X_test_preprocessed)\n",
        "\n",
        "# Avaliar o desempenho do modelo nos dados de teste\n",
        "accuracy_logreg = accuracy_score(y_test, y_pred_logreg)\n",
        "precision_logreg = precision_score(y_test, y_pred_logreg)\n",
        "recall_logreg = recall_score(y_test, y_pred_logreg)\n",
        "f1_logreg = f1_score(y_test, y_pred_logreg)\n",
        "\n",
        "# Exibir os resultados\n",
        "print(\"Regressão Logística - Accuracy:\", accuracy_logreg)\n",
        "print(\"Regressão Logística - Precision:\", precision_logreg)\n",
        "print(\"Regressão Logística - Recall:\", recall_logreg)\n",
        "print(\"Regressão Logística - F1 Score:\", f1_logreg)\n",
        "\n",
        "# Exibir um relatório de classificação detalhado\n",
        "print(\"\\nRegressão Logística - Classification Report:\")\n",
        "print(classification_report(y_test, y_pred_logreg))\n",
        "\n",
        "# Realizar validação cruzada com 5 folds\n",
        "cv_scores_logreg = cross_val_score(logreg_model, X_train_preprocessed, y_train, cv=5, scoring='accuracy')\n",
        "\n",
        "# Exibir os resultados da validação cruzada\n",
        "print(\"\\nResultados da Validação Cruzada (Accuracy):\")\n",
        "print(cv_scores_logreg)\n",
        "print(\"Média da Acurácia na Validação Cruzada: {:.2f}\".format(cv_scores_logreg.mean()))\n"
      ],
      "metadata": {
        "colab": {
          "base_uri": "https://localhost:8080/"
        },
        "id": "e5fEDb2f5WhX",
        "outputId": "867dbf8b-40f7-4b22-e9f4-8551513ac27a"
      },
      "execution_count": null,
      "outputs": [
        {
          "output_type": "stream",
          "name": "stdout",
          "text": [
            "Regressão Logística - Accuracy: 0.6689170795448358\n",
            "Regressão Logística - Precision: 0.2857142857142857\n",
            "Regressão Logística - Recall: 0.00016448721111933547\n",
            "Regressão Logística - F1 Score: 0.0003287851389117212\n",
            "\n",
            "Regressão Logística - Classification Report:\n",
            "              precision    recall  f1-score   support\n",
            "\n",
            "           0       0.67      1.00      0.80     24575\n",
            "           1       0.29      0.00      0.00     12159\n",
            "\n",
            "    accuracy                           0.67     36734\n",
            "   macro avg       0.48      0.50      0.40     36734\n",
            "weighted avg       0.54      0.67      0.54     36734\n",
            "\n",
            "\n",
            "Resultados da Validação Cruzada (Accuracy):\n",
            "[0.66611087 0.66614489 0.66596338 0.66596338 0.66599741]\n",
            "Média da Acurácia na Validação Cruzada: 0.67\n"
          ]
        }
      ]
    },
    {
      "cell_type": "markdown",
      "source": [
        "#### Roc Curve"
      ],
      "metadata": {
        "id": "c-U4gjC14aSy"
      }
    },
    {
      "cell_type": "code",
      "source": [
        "from sklearn.metrics import roc_curve, roc_auc_score\n",
        "import matplotlib.pyplot as plt\n",
        "\n",
        "# Modelos\n",
        "models = [rf_model, nb_model, knn_model, logreg_model]\n",
        "model_names = ['Random Forest', 'Naive Bayes', 'KNeighbors', 'Logistic Regression']\n",
        "\n",
        "# Cores para os gráficos\n",
        "colors = ['darkorange', 'blue', 'green', 'red']\n",
        "\n",
        "# Plotar curvas ROC para cada modelo\n",
        "plt.figure(figsize=(8, 8))\n",
        "for model, name, color in zip(models, model_names, colors):\n",
        "    y_proba = model.predict_proba(X_test_preprocessed)[:, 1]\n",
        "    fpr, tpr, _ = roc_curve(y_test, y_proba)\n",
        "    roc_auc = roc_auc_score(y_test, y_proba)\n",
        "    plt.plot(fpr, tpr, color=color, lw=2, label='{} (AUC = {:.2f})'.format(name, roc_auc))\n",
        "\n",
        "# Linha diagonal (aleatório)\n",
        "plt.plot([0, 1], [0, 1], color='navy', lw=2, linestyle='--')\n",
        "\n",
        "# Configurações do gráfico\n",
        "plt.xlabel('False Positive Rate')\n",
        "plt.ylabel('True Positive Rate')\n",
        "plt.title('Receiver Operating Characteristic (ROC) Curve')\n",
        "plt.legend(loc='lower right')\n",
        "plt.show()\n"
      ],
      "metadata": {
        "colab": {
          "base_uri": "https://localhost:8080/",
          "height": 713
        },
        "id": "CjwOHPq_4G6I",
        "outputId": "6564f5bb-7c8f-42ca-8ef1-dc3c3451e1cc"
      },
      "execution_count": null,
      "outputs": [
        {
          "output_type": "display_data",
          "data": {
            "text/plain": [
              "<Figure size 800x800 with 1 Axes>"
            ],
            "image/png": "[encoded data removed]"
          },
          "metadata": {}
        }
      ]
    }
  ],
  "metadata": {
    "colab": {
      "provenance": [],
      "collapsed_sections": [
        "ECa3K69t1AIy",
        "_WPUkEHFHrXO",
        "PC3t-djtMN1n",
        "bwTdr4V6OhDq",
        "5RT3ErzbO4zG",
        "MlkLZ5mPhp8e",
        "Wqj3fc2ml7Zj",
        "bF3ARwiqukm0",
        "85plRAo99Dcz",
        "njOOqUMzod83",
        "rUHJjuMxrJzN",
        "EWwyq59me0CS",
        "-mhNOhh1fFgA",
        "cOPooG6nfZiL",
        "KZGXGWsn5Tx3",
        "c-U4gjC14aSy"
      ],
      "include_colab_link": true
    },
    "kernelspec": {
      "display_name": "Python 3",
      "name": "python3"
    },
    "language_info": {
      "name": "python"
    }
  },
  "nbformat": 4,
  "nbformat_minor": 0
}